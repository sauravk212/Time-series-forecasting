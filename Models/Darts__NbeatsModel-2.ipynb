{
 "cells": [
  {
   "cell_type": "code",
   "execution_count": 1,
   "metadata": {
    "colab": {
     "base_uri": "https://localhost:8080/"
    },
    "id": "GeEaZmSRLmA_",
    "outputId": "24766839-b047-4ef0-851a-257d04874726"
   },
   "outputs": [
    {
     "name": "stdout",
     "output_type": "stream",
     "text": [
      "Looking in indexes: https://pypi.org/simple, https://pypi.ngc.nvidia.com\n",
      "Requirement already satisfied: darts in c:\\users\\techno\\anaconda3\\lib\\site-packages (0.29.0)\n",
      "Requirement already satisfied: holidays>=0.11.1 in c:\\users\\techno\\anaconda3\\lib\\site-packages (from darts) (0.47)\n",
      "Requirement already satisfied: joblib>=0.16.0 in c:\\users\\techno\\anaconda3\\lib\\site-packages (from darts) (1.4.0)\n",
      "Requirement already satisfied: matplotlib>=3.3.0 in c:\\users\\techno\\anaconda3\\lib\\site-packages (from darts) (3.8.4)\n",
      "Requirement already satisfied: nfoursid>=1.0.0 in c:\\users\\techno\\anaconda3\\lib\\site-packages (from darts) (1.0.1)\n",
      "Requirement already satisfied: numpy>=1.19.0 in c:\\users\\techno\\anaconda3\\lib\\site-packages (from darts) (1.26.4)\n",
      "Requirement already satisfied: pmdarima>=1.8.0 in c:\\users\\techno\\anaconda3\\lib\\site-packages (from darts) (2.0.4)\n",
      "Requirement already satisfied: pyod>=0.9.5 in c:\\users\\techno\\anaconda3\\lib\\site-packages (from darts) (1.1.3)\n",
      "Requirement already satisfied: requests>=2.22.0 in c:\\users\\techno\\anaconda3\\lib\\site-packages (from darts) (2.31.0)\n",
      "Requirement already satisfied: scikit-learn>=1.0.1 in c:\\users\\techno\\anaconda3\\lib\\site-packages (from darts) (1.2.2)\n",
      "Requirement already satisfied: scipy>=1.3.2 in c:\\users\\techno\\anaconda3\\lib\\site-packages (from darts) (1.12.0)\n",
      "Requirement already satisfied: shap>=0.40.0 in c:\\users\\techno\\anaconda3\\lib\\site-packages (from darts) (0.45.0)\n",
      "Requirement already satisfied: statsforecast>=1.4 in c:\\users\\techno\\anaconda3\\lib\\site-packages (from darts) (1.7.4)\n",
      "Requirement already satisfied: statsmodels>=0.14.0 in c:\\users\\techno\\anaconda3\\lib\\site-packages (from darts) (0.14.0)\n",
      "Requirement already satisfied: tbats>=1.1.0 in c:\\users\\techno\\anaconda3\\lib\\site-packages (from darts) (1.1.3)\n",
      "Requirement already satisfied: tqdm>=4.60.0 in c:\\users\\techno\\anaconda3\\lib\\site-packages (from darts) (4.65.0)\n",
      "Requirement already satisfied: typing-extensions in c:\\users\\techno\\anaconda3\\lib\\site-packages (from darts) (4.9.0)\n",
      "Requirement already satisfied: xarray>=0.17.0 in c:\\users\\techno\\anaconda3\\lib\\site-packages (from darts) (2023.6.0)\n",
      "Requirement already satisfied: xgboost>=1.6.0 in c:\\users\\techno\\anaconda3\\lib\\site-packages (from darts) (2.0.3)\n",
      "Requirement already satisfied: pytorch-lightning>=1.5.0 in c:\\users\\techno\\anaconda3\\lib\\site-packages (from darts) (2.2.2)\n",
      "Requirement already satisfied: tensorboardX>=2.1 in c:\\users\\techno\\anaconda3\\lib\\site-packages (from darts) (2.6.2.2)\n",
      "Requirement already satisfied: torch>=1.8.0 in c:\\users\\techno\\anaconda3\\lib\\site-packages (from darts) (2.2.2)\n",
      "Requirement already satisfied: pandas>=1.0.5 in c:\\users\\techno\\anaconda3\\lib\\site-packages (from darts) (2.1.4)\n",
      "Requirement already satisfied: python-dateutil in c:\\users\\techno\\anaconda3\\lib\\site-packages (from holidays>=0.11.1->darts) (2.8.2)\n",
      "Requirement already satisfied: contourpy>=1.0.1 in c:\\users\\techno\\anaconda3\\lib\\site-packages (from matplotlib>=3.3.0->darts) (1.2.0)\n",
      "Requirement already satisfied: cycler>=0.10 in c:\\users\\techno\\anaconda3\\lib\\site-packages (from matplotlib>=3.3.0->darts) (0.11.0)\n",
      "Requirement already satisfied: fonttools>=4.22.0 in c:\\users\\techno\\anaconda3\\lib\\site-packages (from matplotlib>=3.3.0->darts) (4.51.0)\n",
      "Requirement already satisfied: kiwisolver>=1.3.1 in c:\\users\\techno\\anaconda3\\lib\\site-packages (from matplotlib>=3.3.0->darts) (1.4.4)\n",
      "Requirement already satisfied: packaging>=20.0 in c:\\users\\techno\\anaconda3\\lib\\site-packages (from matplotlib>=3.3.0->darts) (23.2)\n",
      "Requirement already satisfied: pillow>=8 in c:\\users\\techno\\anaconda3\\lib\\site-packages (from matplotlib>=3.3.0->darts) (10.2.0)\n",
      "Requirement already satisfied: pyparsing>=2.3.1 in c:\\users\\techno\\anaconda3\\lib\\site-packages (from matplotlib>=3.3.0->darts) (3.0.9)\n",
      "Requirement already satisfied: pytz>=2020.1 in c:\\users\\techno\\anaconda3\\lib\\site-packages (from pandas>=1.0.5->darts) (2024.1)\n",
      "Requirement already satisfied: tzdata>=2022.1 in c:\\users\\techno\\anaconda3\\lib\\site-packages (from pandas>=1.0.5->darts) (2023.3)\n",
      "Requirement already satisfied: Cython!=0.29.18,!=0.29.31,>=0.29 in c:\\users\\techno\\anaconda3\\lib\\site-packages (from pmdarima>=1.8.0->darts) (3.0.10)\n",
      "Requirement already satisfied: urllib3 in c:\\users\\techno\\anaconda3\\lib\\site-packages (from pmdarima>=1.8.0->darts) (2.0.7)\n",
      "Requirement already satisfied: setuptools!=50.0.0,>=38.6.0 in c:\\users\\techno\\anaconda3\\lib\\site-packages (from pmdarima>=1.8.0->darts) (69.2.0)\n",
      "Requirement already satisfied: numba>=0.51 in c:\\users\\techno\\anaconda3\\lib\\site-packages (from pyod>=0.9.5->darts) (0.59.1)\n",
      "Requirement already satisfied: six in c:\\users\\techno\\appdata\\roaming\\python\\python311\\site-packages (from pyod>=0.9.5->darts) (1.16.0)\n",
      "Requirement already satisfied: PyYAML>=5.4 in c:\\users\\techno\\anaconda3\\lib\\site-packages (from pytorch-lightning>=1.5.0->darts) (6.0.1)\n",
      "Requirement already satisfied: fsspec>=2022.5.0 in c:\\users\\techno\\anaconda3\\lib\\site-packages (from fsspec[http]>=2022.5.0->pytorch-lightning>=1.5.0->darts) (2023.10.0)\n",
      "Requirement already satisfied: torchmetrics>=0.7.0 in c:\\users\\techno\\anaconda3\\lib\\site-packages (from pytorch-lightning>=1.5.0->darts) (1.3.2)\n",
      "Requirement already satisfied: lightning-utilities>=0.8.0 in c:\\users\\techno\\anaconda3\\lib\\site-packages (from pytorch-lightning>=1.5.0->darts) (0.11.2)\n",
      "Requirement already satisfied: charset-normalizer<4,>=2 in c:\\users\\techno\\anaconda3\\lib\\site-packages (from requests>=2.22.0->darts) (2.0.4)\n",
      "Requirement already satisfied: idna<4,>=2.5 in c:\\users\\techno\\anaconda3\\lib\\site-packages (from requests>=2.22.0->darts) (3.4)\n",
      "Requirement already satisfied: certifi>=2017.4.17 in c:\\users\\techno\\anaconda3\\lib\\site-packages (from requests>=2.22.0->darts) (2024.2.2)\n",
      "Requirement already satisfied: threadpoolctl>=2.0.0 in c:\\users\\techno\\anaconda3\\lib\\site-packages (from scikit-learn>=1.0.1->darts) (2.2.0)\n",
      "Requirement already satisfied: slicer==0.0.7 in c:\\users\\techno\\anaconda3\\lib\\site-packages (from shap>=0.40.0->darts) (0.0.7)\n",
      "Requirement already satisfied: cloudpickle in c:\\users\\techno\\anaconda3\\lib\\site-packages (from shap>=0.40.0->darts) (2.2.1)\n",
      "Requirement already satisfied: coreforecast>=0.0.7 in c:\\users\\techno\\anaconda3\\lib\\site-packages (from statsforecast>=1.4->darts) (0.0.8)\n",
      "Requirement already satisfied: fugue>=0.8.1 in c:\\users\\techno\\anaconda3\\lib\\site-packages (from statsforecast>=1.4->darts) (0.8.7)\n",
      "Requirement already satisfied: utilsforecast>=0.0.24 in c:\\users\\techno\\anaconda3\\lib\\site-packages (from statsforecast>=1.4->darts) (0.1.7)\n",
      "Requirement already satisfied: patsy>=0.5.2 in c:\\users\\techno\\anaconda3\\lib\\site-packages (from statsmodels>=0.14.0->darts) (0.5.6)\n",
      "Requirement already satisfied: protobuf>=3.20 in c:\\users\\techno\\anaconda3\\lib\\site-packages (from tensorboardX>=2.1->darts) (5.26.1)\n",
      "Requirement already satisfied: filelock in c:\\users\\techno\\anaconda3\\lib\\site-packages (from torch>=1.8.0->darts) (3.13.1)\n",
      "Requirement already satisfied: sympy in c:\\users\\techno\\anaconda3\\lib\\site-packages (from torch>=1.8.0->darts) (1.12)\n",
      "Requirement already satisfied: networkx in c:\\users\\techno\\anaconda3\\lib\\site-packages (from torch>=1.8.0->darts) (3.1)\n",
      "Requirement already satisfied: jinja2 in c:\\users\\techno\\anaconda3\\lib\\site-packages (from torch>=1.8.0->darts) (3.1.3)\n",
      "Requirement already satisfied: colorama in c:\\users\\techno\\appdata\\roaming\\python\\python311\\site-packages (from tqdm>=4.60.0->darts) (0.4.6)\n",
      "Requirement already satisfied: aiohttp!=4.0.0a0,!=4.0.0a1 in c:\\users\\techno\\anaconda3\\lib\\site-packages (from fsspec[http]>=2022.5.0->pytorch-lightning>=1.5.0->darts) (3.9.3)\n",
      "Requirement already satisfied: triad>=0.9.3 in c:\\users\\techno\\anaconda3\\lib\\site-packages (from fugue>=0.8.1->statsforecast>=1.4->darts) (0.9.6)\n",
      "Requirement already satisfied: adagio>=0.2.4 in c:\\users\\techno\\anaconda3\\lib\\site-packages (from fugue>=0.8.1->statsforecast>=1.4->darts) (0.2.4)\n",
      "Requirement already satisfied: qpd>=0.4.4 in c:\\users\\techno\\anaconda3\\lib\\site-packages (from fugue>=0.8.1->statsforecast>=1.4->darts) (0.4.4)\n",
      "Requirement already satisfied: fugue-sql-antlr>=0.1.6 in c:\\users\\techno\\anaconda3\\lib\\site-packages (from fugue>=0.8.1->statsforecast>=1.4->darts) (0.2.0)\n",
      "Requirement already satisfied: sqlglot in c:\\users\\techno\\anaconda3\\lib\\site-packages (from fugue>=0.8.1->statsforecast>=1.4->darts) (23.10.0)\n",
      "Requirement already satisfied: llvmlite<0.43,>=0.42.0dev0 in c:\\users\\techno\\anaconda3\\lib\\site-packages (from numba>=0.51->pyod>=0.9.5->darts) (0.42.0)\n",
      "Requirement already satisfied: MarkupSafe>=2.0 in c:\\users\\techno\\anaconda3\\lib\\site-packages (from jinja2->torch>=1.8.0->darts) (2.1.3)\n",
      "Requirement already satisfied: mpmath>=0.19 in c:\\users\\techno\\anaconda3\\lib\\site-packages (from sympy->torch>=1.8.0->darts) (1.3.0)\n",
      "Requirement already satisfied: aiosignal>=1.1.2 in c:\\users\\techno\\anaconda3\\lib\\site-packages (from aiohttp!=4.0.0a0,!=4.0.0a1->fsspec[http]>=2022.5.0->pytorch-lightning>=1.5.0->darts) (1.2.0)\n",
      "Requirement already satisfied: attrs>=17.3.0 in c:\\users\\techno\\anaconda3\\lib\\site-packages (from aiohttp!=4.0.0a0,!=4.0.0a1->fsspec[http]>=2022.5.0->pytorch-lightning>=1.5.0->darts) (23.1.0)\n",
      "Requirement already satisfied: frozenlist>=1.1.1 in c:\\users\\techno\\anaconda3\\lib\\site-packages (from aiohttp!=4.0.0a0,!=4.0.0a1->fsspec[http]>=2022.5.0->pytorch-lightning>=1.5.0->darts) (1.4.0)\n",
      "Requirement already satisfied: multidict<7.0,>=4.5 in c:\\users\\techno\\anaconda3\\lib\\site-packages (from aiohttp!=4.0.0a0,!=4.0.0a1->fsspec[http]>=2022.5.0->pytorch-lightning>=1.5.0->darts) (6.0.4)\n",
      "Requirement already satisfied: yarl<2.0,>=1.0 in c:\\users\\techno\\anaconda3\\lib\\site-packages (from aiohttp!=4.0.0a0,!=4.0.0a1->fsspec[http]>=2022.5.0->pytorch-lightning>=1.5.0->darts) (1.9.3)\n",
      "Requirement already satisfied: antlr4-python3-runtime<4.12 in c:\\users\\techno\\anaconda3\\lib\\site-packages (from fugue-sql-antlr>=0.1.6->fugue>=0.8.1->statsforecast>=1.4->darts) (4.11.1)\n",
      "Requirement already satisfied: pyarrow>=6.0.1 in c:\\users\\techno\\anaconda3\\lib\\site-packages (from triad>=0.9.3->fugue>=0.8.1->statsforecast>=1.4->darts) (14.0.2)\n",
      "Requirement already satisfied: fs in c:\\users\\techno\\anaconda3\\lib\\site-packages (from triad>=0.9.3->fugue>=0.8.1->statsforecast>=1.4->darts) (2.4.16)\n",
      "Requirement already satisfied: appdirs~=1.4.3 in c:\\users\\techno\\anaconda3\\lib\\site-packages (from fs->triad>=0.9.3->fugue>=0.8.1->statsforecast>=1.4->darts) (1.4.4)\n",
      "Note: you may need to restart the kernel to use updated packages.\n"
     ]
    }
   ],
   "source": [
    "pip install darts"
   ]
  },
  {
   "cell_type": "code",
   "execution_count": 2,
   "metadata": {
    "id": "DBr0HP1LLPh1"
   },
   "outputs": [],
   "source": [
    "import pandas as pd\n",
    "import numpy as np\n",
    "import matplotlib.pyplot as plt\n",
    "\n",
    "from darts import TimeSeries"
   ]
  },
  {
   "cell_type": "code",
   "execution_count": 3,
   "metadata": {
    "id": "lua_o1G7LrcV"
   },
   "outputs": [],
   "source": [
    "df = pd.read_csv('..\\datasets\\Plasma current.csv',usecols=[1]).clip(0)"
   ]
  },
  {
   "cell_type": "code",
   "execution_count": 4,
   "metadata": {
    "colab": {
     "base_uri": "https://localhost:8080/",
     "height": 423
    },
    "id": "IhVgtd94OxA-",
    "outputId": "51735988-2b90-4d13-b43a-fe940594ff5e"
   },
   "outputs": [
    {
     "data": {
      "text/html": [
       "<div>\n",
       "<style scoped>\n",
       "    .dataframe tbody tr th:only-of-type {\n",
       "        vertical-align: middle;\n",
       "    }\n",
       "\n",
       "    .dataframe tbody tr th {\n",
       "        vertical-align: top;\n",
       "    }\n",
       "\n",
       "    .dataframe thead th {\n",
       "        text-align: right;\n",
       "    }\n",
       "</style>\n",
       "<table border=\"1\" class=\"dataframe\">\n",
       "  <thead>\n",
       "    <tr style=\"text-align: right;\">\n",
       "      <th></th>\n",
       "      <th>Plasma_current</th>\n",
       "    </tr>\n",
       "  </thead>\n",
       "  <tbody>\n",
       "    <tr>\n",
       "      <th>0</th>\n",
       "      <td>0.0000</td>\n",
       "    </tr>\n",
       "    <tr>\n",
       "      <th>1</th>\n",
       "      <td>1.3591</td>\n",
       "    </tr>\n",
       "    <tr>\n",
       "      <th>2</th>\n",
       "      <td>5.7585</td>\n",
       "    </tr>\n",
       "    <tr>\n",
       "      <th>3</th>\n",
       "      <td>11.6940</td>\n",
       "    </tr>\n",
       "    <tr>\n",
       "      <th>4</th>\n",
       "      <td>17.8730</td>\n",
       "    </tr>\n",
       "    <tr>\n",
       "      <th>...</th>\n",
       "      <td>...</td>\n",
       "    </tr>\n",
       "    <tr>\n",
       "      <th>400995</th>\n",
       "      <td>0.0000</td>\n",
       "    </tr>\n",
       "    <tr>\n",
       "      <th>400996</th>\n",
       "      <td>0.0000</td>\n",
       "    </tr>\n",
       "    <tr>\n",
       "      <th>400997</th>\n",
       "      <td>0.0000</td>\n",
       "    </tr>\n",
       "    <tr>\n",
       "      <th>400998</th>\n",
       "      <td>0.0000</td>\n",
       "    </tr>\n",
       "    <tr>\n",
       "      <th>400999</th>\n",
       "      <td>0.0000</td>\n",
       "    </tr>\n",
       "  </tbody>\n",
       "</table>\n",
       "<p>401000 rows × 1 columns</p>\n",
       "</div>"
      ],
      "text/plain": [
       "        Plasma_current\n",
       "0               0.0000\n",
       "1               1.3591\n",
       "2               5.7585\n",
       "3              11.6940\n",
       "4              17.8730\n",
       "...                ...\n",
       "400995          0.0000\n",
       "400996          0.0000\n",
       "400997          0.0000\n",
       "400998          0.0000\n",
       "400999          0.0000\n",
       "\n",
       "[401000 rows x 1 columns]"
      ]
     },
     "execution_count": 4,
     "metadata": {},
     "output_type": "execute_result"
    }
   ],
   "source": [
    "df"
   ]
  },
  {
   "cell_type": "code",
   "execution_count": 5,
   "metadata": {
    "id": "B-m-4Y1cMRH2"
   },
   "outputs": [],
   "source": [
    "dates = pd.date_range(start='1/1/1900',periods=len(df), freq='h')"
   ]
  },
  {
   "cell_type": "code",
   "execution_count": 6,
   "metadata": {
    "id": "5co_6BJ0NRud"
   },
   "outputs": [],
   "source": [
    "df.index = pd.to_datetime(dates, format='%d.%m.%Y %H:%M:%S')"
   ]
  },
  {
   "cell_type": "code",
   "execution_count": null,
   "metadata": {
    "id": "mGGo0OlnBPBt"
   },
   "outputs": [],
   "source": []
  },
  {
   "cell_type": "code",
   "execution_count": 7,
   "metadata": {
    "colab": {
     "base_uri": "https://localhost:8080/",
     "height": 206
    },
    "id": "k6eK5mUfNXNd",
    "outputId": "70fa1651-cd5f-476f-c3b5-afcea0a26192"
   },
   "outputs": [
    {
     "data": {
      "text/html": [
       "<div>\n",
       "<style scoped>\n",
       "    .dataframe tbody tr th:only-of-type {\n",
       "        vertical-align: middle;\n",
       "    }\n",
       "\n",
       "    .dataframe tbody tr th {\n",
       "        vertical-align: top;\n",
       "    }\n",
       "\n",
       "    .dataframe thead th {\n",
       "        text-align: right;\n",
       "    }\n",
       "</style>\n",
       "<table border=\"1\" class=\"dataframe\">\n",
       "  <thead>\n",
       "    <tr style=\"text-align: right;\">\n",
       "      <th></th>\n",
       "      <th>Plasma_current</th>\n",
       "    </tr>\n",
       "  </thead>\n",
       "  <tbody>\n",
       "    <tr>\n",
       "      <th>1900-01-17 11:00:00</th>\n",
       "      <td>0.0</td>\n",
       "    </tr>\n",
       "    <tr>\n",
       "      <th>1900-01-17 12:00:00</th>\n",
       "      <td>0.0</td>\n",
       "    </tr>\n",
       "    <tr>\n",
       "      <th>1900-01-17 13:00:00</th>\n",
       "      <td>0.0</td>\n",
       "    </tr>\n",
       "    <tr>\n",
       "      <th>1900-01-17 14:00:00</th>\n",
       "      <td>0.0</td>\n",
       "    </tr>\n",
       "    <tr>\n",
       "      <th>1900-01-17 15:00:00</th>\n",
       "      <td>0.0</td>\n",
       "    </tr>\n",
       "  </tbody>\n",
       "</table>\n",
       "</div>"
      ],
      "text/plain": [
       "                     Plasma_current\n",
       "1900-01-17 11:00:00             0.0\n",
       "1900-01-17 12:00:00             0.0\n",
       "1900-01-17 13:00:00             0.0\n",
       "1900-01-17 14:00:00             0.0\n",
       "1900-01-17 15:00:00             0.0"
      ]
     },
     "execution_count": 7,
     "metadata": {},
     "output_type": "execute_result"
    }
   ],
   "source": [
    "df[:400].tail()"
   ]
  },
  {
   "cell_type": "code",
   "execution_count": 8,
   "metadata": {
    "colab": {
     "base_uri": "https://localhost:8080/",
     "height": 206
    },
    "id": "n0rTCmv5Ndo9",
    "outputId": "ecccfc57-af75-4fea-af71-5e7f150cbc4f"
   },
   "outputs": [
    {
     "data": {
      "text/html": [
       "<div>\n",
       "<style scoped>\n",
       "    .dataframe tbody tr th:only-of-type {\n",
       "        vertical-align: middle;\n",
       "    }\n",
       "\n",
       "    .dataframe tbody tr th {\n",
       "        vertical-align: top;\n",
       "    }\n",
       "\n",
       "    .dataframe thead th {\n",
       "        text-align: right;\n",
       "    }\n",
       "</style>\n",
       "<table border=\"1\" class=\"dataframe\">\n",
       "  <thead>\n",
       "    <tr style=\"text-align: right;\">\n",
       "      <th></th>\n",
       "      <th>Plasma_current</th>\n",
       "    </tr>\n",
       "  </thead>\n",
       "  <tbody>\n",
       "    <tr>\n",
       "      <th>1945-09-30 03:00:00</th>\n",
       "      <td>0.0</td>\n",
       "    </tr>\n",
       "    <tr>\n",
       "      <th>1945-09-30 04:00:00</th>\n",
       "      <td>0.0</td>\n",
       "    </tr>\n",
       "    <tr>\n",
       "      <th>1945-09-30 05:00:00</th>\n",
       "      <td>0.0</td>\n",
       "    </tr>\n",
       "    <tr>\n",
       "      <th>1945-09-30 06:00:00</th>\n",
       "      <td>0.0</td>\n",
       "    </tr>\n",
       "    <tr>\n",
       "      <th>1945-09-30 07:00:00</th>\n",
       "      <td>0.0</td>\n",
       "    </tr>\n",
       "  </tbody>\n",
       "</table>\n",
       "</div>"
      ],
      "text/plain": [
       "                     Plasma_current\n",
       "1945-09-30 03:00:00             0.0\n",
       "1945-09-30 04:00:00             0.0\n",
       "1945-09-30 05:00:00             0.0\n",
       "1945-09-30 06:00:00             0.0\n",
       "1945-09-30 07:00:00             0.0"
      ]
     },
     "execution_count": 8,
     "metadata": {},
     "output_type": "execute_result"
    }
   ],
   "source": [
    "df.tail()"
   ]
  },
  {
   "cell_type": "code",
   "execution_count": 9,
   "metadata": {
    "id": "kFt3F-c6L7qk"
   },
   "outputs": [],
   "source": [
    "series= TimeSeries.from_dataframe(df)"
   ]
  },
  {
   "cell_type": "code",
   "execution_count": 10,
   "metadata": {
    "colab": {
     "base_uri": "https://localhost:8080/",
     "height": 479
    },
    "id": "0AgAxc9tNRJO",
    "outputId": "e20c1c03-badb-4917-ad07-3cd5fbd9dd44"
   },
   "outputs": [
    {
     "data": {
      "text/plain": [
       "<Axes: xlabel='time'>"
      ]
     },
     "execution_count": 10,
     "metadata": {},
     "output_type": "execute_result"
    },
    {
     "data": {
      "image/png": "[encoded data removed]",
      "text/plain": [
       "<Figure size 640x480 with 1 Axes>"
      ]
     },
     "metadata": {},
     "output_type": "display_data"
    }
   ],
   "source": [
    "series.plot()"
   ]
  },
  {
   "cell_type": "code",
   "execution_count": 11,
   "metadata": {
    "id": "P2uMMKo5QbdF"
   },
   "outputs": [],
   "source": [
    "from darts.dataprocessing.transformers  import Scaler\n",
    "scaler = Scaler()\n",
    "series_scaled = scaler.fit_transform(series)"
   ]
  },
  {
   "cell_type": "code",
   "execution_count": 12,
   "metadata": {
    "colab": {
     "base_uri": "https://localhost:8080/",
     "height": 479
    },
    "id": "6dkBclcFQ_1m",
    "outputId": "895776d5-5728-42ad-c144-4192a35e1080"
   },
   "outputs": [
    {
     "data": {
      "text/plain": [
       "<Axes: xlabel='time'>"
      ]
     },
     "execution_count": 12,
     "metadata": {},
     "output_type": "execute_result"
    },
    {
     "data": {
      "image/png": "[encoded data removed]",
      "text/plain": [
       "<Figure size 640x480 with 1 Axes>"
      ]
     },
     "metadata": {},
     "output_type": "display_data"
    }
   ],
   "source": [
    "series_scaled.plot()"
   ]
  },
  {
   "cell_type": "code",
   "execution_count": 13,
   "metadata": {
    "colab": {
     "base_uri": "https://localhost:8080/",
     "height": 479
    },
    "id": "24_uk09mPd9V",
    "outputId": "5d13abb1-8b41-4373-d54a-f040c02a02e9"
   },
   "outputs": [
    {
     "data": {
      "text/plain": [
       "<Axes: xlabel='time'>"
      ]
     },
     "execution_count": 13,
     "metadata": {},
     "output_type": "execute_result"
    },
    {
     "data": {
      "image/png": "[encoded data removed]",
      "text/plain": [
       "<Figure size 640x480 with 1 Axes>"
      ]
     },
     "metadata": {},
     "output_type": "display_data"
    }
   ],
   "source": [
    "train, test = series_scaled.split_after(0.8)\n",
    "train.plot()\n",
    "test.plot()"
   ]
  },
  {
   "cell_type": "code",
   "execution_count": 14,
   "metadata": {
    "colab": {
     "base_uri": "https://localhost:8080/"
    },
    "id": "GAEHOITDZjRz",
    "outputId": "6e8dd56f-6959-4850-f75a-e47205642aa8"
   },
   "outputs": [
    {
     "data": {
      "text/plain": [
       "80200"
      ]
     },
     "execution_count": 14,
     "metadata": {},
     "output_type": "execute_result"
    }
   ],
   "source": [
    "len(test)"
   ]
  },
  {
   "cell_type": "code",
   "execution_count": 15,
   "metadata": {
    "id": "5-WTpvxdP1QL"
   },
   "outputs": [],
   "source": [
    "from darts.models import RNNModel , TCNModel,  TransformerModel, NBEATSModel, BlockRNNModel, ExponentialSmoothing, LinearRegressionModel\n",
    "from darts.metrics import mse, mape"
   ]
  },
  {
   "cell_type": "code",
   "execution_count": 16,
   "metadata": {
    "id": "RIn8o97Bcxxg"
   },
   "outputs": [],
   "source": [
    "model = NBEATSModel(\n",
    "    input_chunk_length=10,\n",
    "    output_chunk_length=20,\n",
    "    n_epochs=10,\n",
    "    activation='LeakyReLU'\n",
    ")"
   ]
  },
  {
   "cell_type": "code",
   "execution_count": null,
   "metadata": {
    "colab": {
     "base_uri": "https://localhost:8080/",
     "height": 413,
     "referenced_widgets": [
      "1b45e26a5f0a42a691253fee7d58048c",
      "ab83c5459a73453f9e24c2297f23a1dc",
      "ee32ef97ea9f4f8a867ff0f9a5a7de00",
      "2b9c068ab2574202af534a666c51ec2e",
      "e85f2cab049f4375ab6a3e99e309dee2",
      "39ab77bf9fe948f7a629862b57c5af3d",
      "dcc81652b42945aa84fb448660315c12",
      "48db8b25debb4ed8b7cc7215adef19ed",
      "749bfda2a1e7405aa165b8b1df886c5e",
      "c2fd54cbe05d4892b07d458920151585",
      "2ec8ab44f5a9453abf3ab0aa95b8c841"
     ]
    },
    "id": "Hd_6rhdnegxZ",
    "outputId": "6c8e7540-2c53-47d7-a0ab-815afbebceee"
   },
   "outputs": [
    {
     "name": "stderr",
     "output_type": "stream",
     "text": [
      "GPU available: False, used: False\n",
      "TPU available: False, using: 0 TPU cores\n",
      "IPU available: False, using: 0 IPUs\n",
      "HPU available: False, using: 0 HPUs\n",
      "\n",
      "  | Name          | Type             | Params\n",
      "---------------------------------------------------\n",
      "0 | criterion     | MSELoss          | 0     \n",
      "1 | train_metrics | MetricCollection | 0     \n",
      "2 | val_metrics   | MetricCollection | 0     \n",
      "3 | stacks        | ModuleList       | 6.1 M \n",
      "---------------------------------------------------\n",
      "6.1 M     Trainable params\n",
      "1.3 K     Non-trainable params\n",
      "6.1 M     Total params\n",
      "24.353    Total estimated model params size (MB)\n"
     ]
    },
    {
     "data": {
      "application/vnd.jupyter.widget-view+json": {
       "model_id": "740aa9751ea84f738e6ebc72cd151320",
       "version_major": 2,
       "version_minor": 0
      },
      "text/plain": [
       "Training: |                                                                                      | 0/? [00:00<…"
      ]
     },
     "metadata": {},
     "output_type": "display_data"
    }
   ],
   "source": [
    "model.fit(train)"
   ]
  },
  {
   "cell_type": "code",
   "execution_count": null,
   "metadata": {
    "colab": {
     "base_uri": "https://localhost:8080/",
     "height": 617,
     "referenced_widgets": [
      "e0c70c0c462a4e60940ac71d3794786a",
      "4f5e4eb5a664435480d5943c1fc21078",
      "033aaeaeac384e1ca1be96e0e8cd5b6e",
      "1abc45abe9b7488a956260009635929b",
      "fc624ddab7bf447ebb0d4e9661fc43cb",
      "851b3ac1844b4e159f63eea069605ed7",
      "5d16ada3cdac4302b2e7cf97e16fe510",
      "c49561d92b284715a59a2b2fe04a1dbd",
      "4aa9250d645e456e87e06052c2d3d8f9",
      "5d4eb920926841f0a4806eebb31001b4",
      "4173040efd944b9a9bc5ad4c4a6633ff"
     ]
    },
    "id": "9yf1HfZzeozB",
    "outputId": "0de2f351-6f42-4db1-b54e-dc7d34f7b760"
   },
   "outputs": [],
   "source": [
    "pred = model.predict(n=20,series=test[0:10])\n",
    "test[0:400].plot()\n",
    "pred.plot()"
   ]
  },
  {
   "cell_type": "code",
   "execution_count": null,
   "metadata": {
    "id": "24ZV96-o2qRY"
   },
   "outputs": [],
   "source": [
    "model.save('Darts2.keras')"
   ]
  },
  {
   "cell_type": "code",
   "execution_count": null,
   "metadata": {
    "id": "3qu9EvyQ3LoX"
   },
   "outputs": [],
   "source": [
    "model.save('bart2.h5')"
   ]
  },
  {
   "cell_type": "code",
   "execution_count": null,
   "metadata": {
    "id": "ysKouWYW3N4k"
   },
   "outputs": [],
   "source": []
  },
  {
   "cell_type": "code",
   "execution_count": null,
   "metadata": {
    "id": "6UReGNqM4K98"
   },
   "outputs": [],
   "source": [
    "df = pd.read_csv('/content/test_10-20.csv')"
   ]
  },
  {
   "cell_type": "code",
   "execution_count": null,
   "metadata": {
    "colab": {
     "base_uri": "https://localhost:8080/",
     "height": 461
    },
    "id": "DHr9wzKO5OKa",
    "outputId": "e7c78a0a-4462-4df9-8f3e-93f43679240f"
   },
   "outputs": [],
   "source": [
    "df"
   ]
  },
  {
   "cell_type": "code",
   "execution_count": null,
   "metadata": {
    "id": "1J0ZXqZb5OZg"
   },
   "outputs": [],
   "source": [
    "x_test1= df.iloc[:1,1:11]"
   ]
  },
  {
   "cell_type": "code",
   "execution_count": null,
   "metadata": {
    "colab": {
     "base_uri": "https://localhost:8080/",
     "height": 89
    },
    "id": "i1t3q4HG7EJJ",
    "outputId": "ecefd8ca-018a-4292-9f93-ef49d7a69a52"
   },
   "outputs": [],
   "source": [
    "x_test1"
   ]
  },
  {
   "cell_type": "code",
   "execution_count": null,
   "metadata": {
    "id": "HOxKOShf7Mai"
   },
   "outputs": [],
   "source": []
  },
  {
   "cell_type": "code",
   "execution_count": null,
   "metadata": {
    "id": "EkHRRL7t6Yhm"
   },
   "outputs": [],
   "source": [
    "x_test1 = x_test1.stack().unstack(0).sort_index(level=0)"
   ]
  },
  {
   "cell_type": "code",
   "execution_count": null,
   "metadata": {
    "colab": {
     "base_uri": "https://localhost:8080/",
     "height": 363
    },
    "id": "-LSo7IXv6v87",
    "outputId": "603871ab-4120-4fc5-a6e4-fea151092fac"
   },
   "outputs": [],
   "source": [
    "x_test1"
   ]
  },
  {
   "cell_type": "code",
   "execution_count": null,
   "metadata": {
    "id": "9sTKt0Qp7N_y"
   },
   "outputs": [],
   "source": [
    "dates = pd.date_range(start='1/1/1900',periods=len(x_test1), freq='h')"
   ]
  },
  {
   "cell_type": "code",
   "execution_count": null,
   "metadata": {
    "id": "dePTN-X27PF0"
   },
   "outputs": [],
   "source": [
    "x_test1.index = dates"
   ]
  },
  {
   "cell_type": "code",
   "execution_count": null,
   "metadata": {
    "colab": {
     "base_uri": "https://localhost:8080/",
     "height": 363
    },
    "id": "CZ5s4OrK710r",
    "outputId": "de4da8ef-a275-4a6d-d66c-ee6bf34f93db"
   },
   "outputs": [],
   "source": [
    "x_test1"
   ]
  },
  {
   "cell_type": "code",
   "execution_count": null,
   "metadata": {
    "colab": {
     "base_uri": "https://localhost:8080/"
    },
    "id": "Fjj1Zxtu7V8Z",
    "outputId": "48d64f28-6059-443a-9461-e10dc594583c"
   },
   "outputs": [],
   "source": [
    "x_test1.columns"
   ]
  },
  {
   "cell_type": "code",
   "execution_count": null,
   "metadata": {
    "id": "7WhHR7rZ6GRJ"
   },
   "outputs": [],
   "source": [
    "series= TimeSeries.from_dataframe(x_test1)"
   ]
  },
  {
   "cell_type": "code",
   "execution_count": null,
   "metadata": {
    "colab": {
     "base_uri": "https://localhost:8080/",
     "height": 1000,
     "referenced_widgets": [
      "6aeaf4afeeb349b3b619fca983fa4fbc",
      "af3f809ac7b2485299325cab2100307b",
      "01fc1946fb8843fabb60cd8c958c1155",
      "dafa453b4e194006b9a3021c98597bb0",
      "12627f370dfc4e0fb5694a0028d1e042",
      "21f071089e6a49359d5723cc9c2ef6d2",
      "040c644979dd46fb8c8f4f95ce8d4978",
      "b1b7b36dae384f86a5fd3c6cf529f859",
      "f304c7649b4d4230a1d85871a37dee8f",
      "48c6b02f374a4378870ca10a113ed699",
      "19a0c75c70864c36bb24539138a0be22"
     ]
    },
    "id": "Nruc4LNd5U5p",
    "outputId": "e4ced77d-2206-4792-d4bc-a0ec525bb28b"
   },
   "outputs": [],
   "source": [
    "model.predict(n=20,series=series)"
   ]
  },
  {
   "cell_type": "code",
   "execution_count": null,
   "metadata": {
    "id": "s--vQiiT5iC6"
   },
   "outputs": [],
   "source": [
    "y_test1 = df.iloc[:1,11:21]"
   ]
  },
  {
   "cell_type": "code",
   "execution_count": null,
   "metadata": {
    "colab": {
     "base_uri": "https://localhost:8080/",
     "height": 89
    },
    "id": "5MHOoz2F8QkG",
    "outputId": "761549b3-1b69-4324-d8a4-d76948df16cc"
   },
   "outputs": [],
   "source": [
    "y_test1"
   ]
  },
  {
   "cell_type": "code",
   "execution_count": null,
   "metadata": {
    "id": "SP_OKuMz8Ros"
   },
   "outputs": [],
   "source": [
    "x_test2= df.iloc[1:2,1:11]"
   ]
  },
  {
   "cell_type": "code",
   "execution_count": null,
   "metadata": {
    "colab": {
     "base_uri": "https://localhost:8080/",
     "height": 89
    },
    "id": "y6m3L4SL8e-i",
    "outputId": "ab6cba92-030e-44b3-e106-954820c55d2d"
   },
   "outputs": [],
   "source": [
    "x_test2"
   ]
  },
  {
   "cell_type": "code",
   "execution_count": null,
   "metadata": {
    "id": "e2OQl6Zm8f2p"
   },
   "outputs": [],
   "source": [
    "x_test2 = x_test2.stack().unstack(0).sort_index(level=0)"
   ]
  },
  {
   "cell_type": "code",
   "execution_count": null,
   "metadata": {
    "id": "l-GPTn4-8o76"
   },
   "outputs": [],
   "source": [
    "x_test2.index = dates"
   ]
  },
  {
   "cell_type": "code",
   "execution_count": null,
   "metadata": {
    "colab": {
     "base_uri": "https://localhost:8080/",
     "height": 394
    },
    "id": "QoDxvzUs8ucB",
    "outputId": "9c7510c1-0baa-4641-9d01-9748892571ac"
   },
   "outputs": [],
   "source": [
    "x_test2"
   ]
  },
  {
   "cell_type": "code",
   "execution_count": null,
   "metadata": {
    "id": "yoBPVlb88vl4"
   },
   "outputs": [],
   "source": [
    "series= TimeSeries.from_dataframe(x_test1)"
   ]
  },
  {
   "cell_type": "code",
   "execution_count": null,
   "metadata": {
    "colab": {
     "base_uri": "https://localhost:8080/",
     "height": 1000,
     "referenced_widgets": [
      "40200ef024ce47139e61431e4cd18d56",
      "590f533b76ff448aa97d9df91183947b",
      "3cc429d38e434616953bcb760a634ac8",
      "fa13bbd49a1c4ee29d3b716af84a1fff",
      "a4efc90e84034812a3145def4b3d5623",
      "771dc6e8c05f4b5b8c7b1e30ad306636",
      "5ebe87a1aa5248518fd2a1b534df5465",
      "79dfee62b5d84c379adb9e576c0bd429",
      "fc7f2b86a1374863825cbe099498a096",
      "6642a142bd634affb1dba3f8688b0e97",
      "d47ecaff57e34996b11da5733a87d3f2"
     ]
    },
    "id": "1Gmn1zMv8zFd",
    "outputId": "d6e0008b-1cd6-4d7e-a373-31b7deb48a03"
   },
   "outputs": [],
   "source": [
    "model.predict(n=20, series=series)"
   ]
  },
  {
   "cell_type": "code",
   "execution_count": null,
   "metadata": {
    "colab": {
     "base_uri": "https://localhost:8080/",
     "height": 89
    },
    "id": "zkhWLENp86Fu",
    "outputId": "7794e8b9-e4f1-4abc-9cae-0ab4f0d9780b"
   },
   "outputs": [],
   "source": [
    "y_test1 = df.iloc[1:2,11:21]\n",
    "y_test1"
   ]
  },
  {
   "cell_type": "code",
   "execution_count": null,
   "metadata": {
    "id": "lOOkbJ5R9B-n"
   },
   "outputs": [],
   "source": [
    "x_test3 = df.iloc[100:101,1:11]"
   ]
  },
  {
   "cell_type": "code",
   "execution_count": null,
   "metadata": {
    "id": "jeKjU69f9XYZ"
   },
   "outputs": [],
   "source": [
    "x_test3 = x_test3.stack().unstack(0).sort_index(level=0)"
   ]
  },
  {
   "cell_type": "code",
   "execution_count": null,
   "metadata": {
    "id": "S2uU6ld09b-L"
   },
   "outputs": [],
   "source": [
    "x_test3.index = dates"
   ]
  },
  {
   "cell_type": "code",
   "execution_count": null,
   "metadata": {
    "colab": {
     "base_uri": "https://localhost:8080/",
     "height": 394
    },
    "id": "OqzYnWZD9er6",
    "outputId": "904dce33-472e-4a54-b3c9-36553cf19aaf"
   },
   "outputs": [],
   "source": [
    "x_test3"
   ]
  },
  {
   "cell_type": "code",
   "execution_count": null,
   "metadata": {
    "id": "9hoebhzG9fZ7"
   },
   "outputs": [],
   "source": [
    "series= TimeSeries.from_dataframe(x_test3)"
   ]
  },
  {
   "cell_type": "code",
   "execution_count": null,
   "metadata": {
    "colab": {
     "base_uri": "https://localhost:8080/",
     "height": 1000,
     "referenced_widgets": [
      "e2cbb50514064de3bf58dc534dec9080",
      "64f301649ebb4711b1d2cf92bf04f386",
      "83c20bfb4156496e9656053769d83a85",
      "ecd65087aff94997a23f821e013f63c8",
      "a31788f895e543c7b24020bfdb323acd",
      "401971a81c0e43419510c4030a480ac6",
      "4340ced7a0cb47d8b0b3d02bb295df49",
      "375820320c7e490b933fd0e5fa8b9359",
      "e930cb6537b84360a0dfdd6d8ee8ea2d",
      "088d30a41ca544ebb6a584509d91d6ec",
      "d8d48d46592b4ff8acf832376e5c3bdb"
     ]
    },
    "id": "Pqfc4bYS9zbP",
    "outputId": "2a93b078-0ba8-41e8-c738-89721c6f8da1"
   },
   "outputs": [],
   "source": [
    "model.predict(n=20, series=series)"
   ]
  },
  {
   "cell_type": "code",
   "execution_count": null,
   "metadata": {
    "id": "1Ephvjss95hR"
   },
   "outputs": [],
   "source": [
    "y_test3 = df.iloc[100:101,11:21]"
   ]
  },
  {
   "cell_type": "code",
   "execution_count": null,
   "metadata": {
    "colab": {
     "base_uri": "https://localhost:8080/",
     "height": 89
    },
    "id": "d8iCKqZj-A2-",
    "outputId": "3870a05c-9e83-4f09-ba60-bc67f1d0296f"
   },
   "outputs": [],
   "source": [
    "y_test3"
   ]
  },
  {
   "cell_type": "code",
   "execution_count": null,
   "metadata": {
    "id": "YKGA53AcFh9A"
   },
   "outputs": [],
   "source": [
    "x_test4 = df.iloc[545:546,1:11]"
   ]
  },
  {
   "cell_type": "code",
   "execution_count": null,
   "metadata": {
    "id": "Gn1u_y6KFwmY"
   },
   "outputs": [],
   "source": [
    "x_test4 = x_test4.stack().unstack(0).sort_index(level=0)"
   ]
  },
  {
   "cell_type": "code",
   "execution_count": null,
   "metadata": {
    "id": "kBCRgQaGF0AC"
   },
   "outputs": [],
   "source": [
    "x_test4.index = dates"
   ]
  },
  {
   "cell_type": "code",
   "execution_count": null,
   "metadata": {
    "id": "zmHKGVLnF20a"
   },
   "outputs": [],
   "source": [
    "series= TimeSeries.from_dataframe(x_test4)"
   ]
  },
  {
   "cell_type": "code",
   "execution_count": null,
   "metadata": {
    "colab": {
     "base_uri": "https://localhost:8080/",
     "height": 1000,
     "referenced_widgets": [
      "efe5a6bc0270429591058d4a9c0caa7e",
      "713894a38d224c7c829e9276fccb693a",
      "d5133cf7f93e476d8a79ee8ffe392741",
      "deab8f634b464e2c870d727805da0fe5",
      "bb57e9a99e2f46a59d0e0dbe3e70e80f",
      "f36daf3f909b4de287b7f564554340d7",
      "2ce73ebab08b45ac8889e8eda9dccd2e",
      "417330abbc294b5babf43aac04896eb2",
      "9b13aee28b1547488465bd96e4eabb85",
      "d16c07bdff914f30bc1b218bfaf3c6f0",
      "81d48bacd3904bd2b16211b686e79810"
     ]
    },
    "id": "5DC96BYZF6BX",
    "outputId": "f206d7a0-bbf2-4a3d-a272-9a3e7b179f72"
   },
   "outputs": [],
   "source": [
    "model.predict(n=20, series=series)"
   ]
  },
  {
   "cell_type": "code",
   "execution_count": null,
   "metadata": {
    "id": "yS7uoDnvF_CO"
   },
   "outputs": [],
   "source": [
    "y_test4 = df.iloc[545:546,11:21]"
   ]
  },
  {
   "cell_type": "code",
   "execution_count": null,
   "metadata": {
    "colab": {
     "base_uri": "https://localhost:8080/",
     "height": 89
    },
    "id": "L5vbY6btGKLa",
    "outputId": "1f347d82-8be8-4c1a-e5ba-d307ae4ac11c"
   },
   "outputs": [],
   "source": [
    "y_test4"
   ]
  }
 ],
 "metadata": {
  "accelerator": "GPU",
  "colab": {
   "gpuType": "T4",
   "provenance": []
  },
  "kernelspec": {
   "display_name": "Python 3 (ipykernel)",
   "language": "python",
   "name": "python3"
  },
  "language_info": {
   "codemirror_mode": {
    "name": "ipython",
    "version": 3
   },
   "file_extension": ".py",
   "mimetype": "text/x-python",
   "name": "python",
   "nbconvert_exporter": "python",
   "pygments_lexer": "ipython3",
   "version": "3.11.7"
  },
  "widgets": {
   "application/vnd.jupyter.widget-state+json": {
    "state": {
     "11585204de63494eba7b70373d0263af": {
      "model_module": "@jupyter-widgets/controls",
      "model_module_version": "2.0.0",
      "model_name": "ProgressStyleModel",
      "state": {
       "description_width": ""
      }
     },
     "740aa9751ea84f738e6ebc72cd151320": {
      "model_module": "@jupyter-widgets/controls",
      "model_module_version": "2.0.0",
      "model_name": "HBoxModel",
      "state": {
       "children": [
        "IPY_MODEL_fab9f31eb68a45c8a58cead3439d05ba",
        "IPY_MODEL_c9f9559582604fcc95db237c304b1e2c",
        "IPY_MODEL_a8cb5feae2504afca9319e86c5ff37e2"
       ],
       "layout": "IPY_MODEL_899b641d82b540e1b7ef4127d60d150d"
      }
     },
     "7434ccbde5cc4f1ab082deee1f58b9b9": {
      "model_module": "@jupyter-widgets/base",
      "model_module_version": "2.0.0",
      "model_name": "LayoutModel",
      "state": {
       "flex": "2"
      }
     },
     "899b641d82b540e1b7ef4127d60d150d": {
      "model_module": "@jupyter-widgets/base",
      "model_module_version": "2.0.0",
      "model_name": "LayoutModel",
      "state": {
       "display": "inline-flex",
       "flex_flow": "row wrap",
       "width": "100%"
      }
     },
     "a8cb5feae2504afca9319e86c5ff37e2": {
      "model_module": "@jupyter-widgets/controls",
      "model_module_version": "2.0.0",
      "model_name": "HTMLModel",
      "state": {
       "layout": "IPY_MODEL_ef0c587d00a44aada0ded130754c7c33",
       "style": "IPY_MODEL_dc29aa58015d40289ed85129a4019c75",
       "value": " 154/10025 [00:58&lt;1:02:35,  2.63it/s, train_loss=0.0166]"
      }
     },
     "c9f9559582604fcc95db237c304b1e2c": {
      "model_module": "@jupyter-widgets/controls",
      "model_module_version": "2.0.0",
      "model_name": "FloatProgressModel",
      "state": {
       "layout": "IPY_MODEL_7434ccbde5cc4f1ab082deee1f58b9b9",
       "max": 10025,
       "style": "IPY_MODEL_11585204de63494eba7b70373d0263af",
       "value": 154
      }
     },
     "d2d3ee8aa10f4fd8b85473a39b990168": {
      "model_module": "@jupyter-widgets/base",
      "model_module_version": "2.0.0",
      "model_name": "LayoutModel",
      "state": {}
     },
     "dc29aa58015d40289ed85129a4019c75": {
      "model_module": "@jupyter-widgets/controls",
      "model_module_version": "2.0.0",
      "model_name": "HTMLStyleModel",
      "state": {
       "description_width": "",
       "font_size": null,
       "text_color": null
      }
     },
     "ed753c952ee3492f80ea48805bf35fa4": {
      "model_module": "@jupyter-widgets/controls",
      "model_module_version": "2.0.0",
      "model_name": "HTMLStyleModel",
      "state": {
       "description_width": "",
       "font_size": null,
       "text_color": null
      }
     },
     "ef0c587d00a44aada0ded130754c7c33": {
      "model_module": "@jupyter-widgets/base",
      "model_module_version": "2.0.0",
      "model_name": "LayoutModel",
      "state": {}
     },
     "fab9f31eb68a45c8a58cead3439d05ba": {
      "model_module": "@jupyter-widgets/controls",
      "model_module_version": "2.0.0",
      "model_name": "HTMLModel",
      "state": {
       "layout": "IPY_MODEL_d2d3ee8aa10f4fd8b85473a39b990168",
       "style": "IPY_MODEL_ed753c952ee3492f80ea48805bf35fa4",
       "value": "Epoch 0:   2%"
      }
     }
    },
    "version_major": 2,
    "version_minor": 0
   }
  }
 },
 "nbformat": 4,
 "nbformat_minor": 4
}
