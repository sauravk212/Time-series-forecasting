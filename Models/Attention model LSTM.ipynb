{
 "cells": [
  {
   "cell_type": "code",
   "execution_count": 1,
   "id": "c7bc194a-4b44-4400-bfcc-d321b90a9438",
   "metadata": {
    "id": "c7bc194a-4b44-4400-bfcc-d321b90a9438"
   },
   "outputs": [],
   "source": [
    "import pandas as pd\n",
    "import numpy as np\n",
    "import matplotlib.pyplot as plt\n",
    "from sklearn.preprocessing import MinMaxScaler\n",
    "import math\n",
    "from keras.layers import LSTM, RepeatVector, TimeDistributed, Bidirectional"
   ]
  },
  {
   "cell_type": "code",
   "execution_count": 2,
   "id": "a287628f-ae67-4142-bdd0-a76981136344",
   "metadata": {
    "id": "a287628f-ae67-4142-bdd0-a76981136344"
   },
   "outputs": [],
   "source": [
    "dataframe = pd.read_csv('output2.csv',usecols=[1]).clip(lower=0).astype('float32')\n",
    "# dataframe = dataframe.iloc[:12000,:]"
   ]
  },
  {
   "cell_type": "code",
   "execution_count": 3,
   "id": "779ca713-18c5-4078-80f5-cef8736212c0",
   "metadata": {
    "colab": {
     "base_uri": "https://localhost:8080/",
     "height": 447
    },
    "id": "779ca713-18c5-4078-80f5-cef8736212c0",
    "outputId": "a003259e-46f2-4d3a-daf0-8efccf870192"
   },
   "outputs": [
    {
     "data": {
      "text/plain": [
       "[<matplotlib.lines.Line2D at 0x1d97fcd16d0>]"
      ]
     },
     "execution_count": 3,
     "metadata": {},
     "output_type": "execute_result"
    },
    {
     "data": {
      "image/png": "[encoded data removed]",
      "text/plain": [
       "<Figure size 640x480 with 1 Axes>"
      ]
     },
     "metadata": {},
     "output_type": "display_data"
    }
   ],
   "source": [
    "plt.plot(dataframe)"
   ]
  },
  {
   "cell_type": "code",
   "execution_count": 4,
   "id": "b3cefdf5-a671-4499-95f6-5be3be547364",
   "metadata": {
    "id": "b3cefdf5-a671-4499-95f6-5be3be547364"
   },
   "outputs": [],
   "source": [
    "scaler = MinMaxScaler(feature_range=(0, 1)) #Also try QuantileTransformer\n",
    "dataset = scaler.fit_transform(dataframe)"
   ]
  },
  {
   "cell_type": "code",
   "execution_count": 5,
   "id": "12d768ec-531b-4016-a600-1fc89fecf01c",
   "metadata": {
    "colab": {
     "base_uri": "https://localhost:8080/"
    },
    "id": "12d768ec-531b-4016-a600-1fc89fecf01c",
    "outputId": "94607981-6035-48dc-c0c2-6df014bea7d4"
   },
   "outputs": [
    {
     "data": {
      "text/plain": [
       "(401000, 1)"
      ]
     },
     "execution_count": 5,
     "metadata": {},
     "output_type": "execute_result"
    }
   ],
   "source": [
    "dataset.shape"
   ]
  },
  {
   "cell_type": "code",
   "execution_count": 6,
   "id": "04eab629-7bc7-4ed3-a53f-a360a498b97f",
   "metadata": {
    "colab": {
     "base_uri": "https://localhost:8080/"
    },
    "id": "04eab629-7bc7-4ed3-a53f-a360a498b97f",
    "outputId": "614043ad-c744-4ba9-b11c-a5945fb1c8b9"
   },
   "outputs": [
    {
     "data": {
      "text/plain": [
       "(80200, 1)"
      ]
     },
     "execution_count": 6,
     "metadata": {},
     "output_type": "execute_result"
    }
   ],
   "source": [
    "train_size = int(len(dataset) * 0.80)\n",
    "test_size = len(dataset) - train_size\n",
    "train, test = dataset[0:train_size,:], dataset[train_size:len(dataset),:]\n",
    "test.shape"
   ]
  },
  {
   "cell_type": "code",
   "execution_count": 7,
   "id": "e91447f0-9d8d-4d09-bc71-8c05476371d0",
   "metadata": {
    "colab": {
     "base_uri": "https://localhost:8080/"
    },
    "id": "e91447f0-9d8d-4d09-bc71-8c05476371d0",
    "outputId": "1077c3f4-3833-43db-eaef-36238c132707"
   },
   "outputs": [
    {
     "data": {
      "text/plain": [
       "(320800, 1)"
      ]
     },
     "execution_count": 7,
     "metadata": {},
     "output_type": "execute_result"
    }
   ],
   "source": [
    "train.shape"
   ]
  },
  {
   "cell_type": "code",
   "execution_count": 8,
   "id": "05aefbf6-0fad-4a09-8f04-d4b1b5104baf",
   "metadata": {
    "id": "05aefbf6-0fad-4a09-8f04-d4b1b5104baf"
   },
   "outputs": [],
   "source": [
    "def to_sequences(dataset, time_window,output):\n",
    "    x = []\n",
    "    y = []\n",
    "\n",
    "    for i in range(len(dataset)-time_window-1-output):\n",
    "        #print(i)\n",
    "        window = dataset[i:(i+time_window), 0]\n",
    "        x.append(window)\n",
    "        y.append(dataset[i+time_window:i+time_window+output, 0])\n",
    "\n",
    "    return  np.array(x), np.array(y)"
   ]
  },
  {
   "cell_type": "code",
   "execution_count": 9,
   "id": "c2e0fd99-8ee4-4bed-a7a8-6541e0f425c1",
   "metadata": {
    "colab": {
     "base_uri": "https://localhost:8080/"
    },
    "id": "c2e0fd99-8ee4-4bed-a7a8-6541e0f425c1",
    "outputId": "bbff3a2f-ce9c-498a-a471-1a432b691027"
   },
   "outputs": [],
   "source": [
    "time_window = 10\n",
    "output=20 # Number of time steps to look back\n",
    "#Larger sequences (look further back) may improve forecasting.\n",
    "\n",
    "trainX, trainY = to_sequences(train, time_window, output)\n",
    "testX, testY = to_sequences(test, time_window,output)"
   ]
  },
  {
   "cell_type": "code",
   "execution_count": 10,
   "id": "KyDTDRIFBK84",
   "metadata": {
    "colab": {
     "base_uri": "https://localhost:8080/"
    },
    "id": "KyDTDRIFBK84",
    "outputId": "02f03a1e-94a8-4c86-f5c1-fee1fe9d1b10"
   },
   "outputs": [
    {
     "data": {
      "text/plain": [
       "(320769, 20)"
      ]
     },
     "execution_count": 10,
     "metadata": {},
     "output_type": "execute_result"
    }
   ],
   "source": [
    "trainY.shape"
   ]
  },
  {
   "cell_type": "code",
   "execution_count": 11,
   "id": "a849a3c5-5e0a-4384-acf5-cf0c9de6cd41",
   "metadata": {},
   "outputs": [],
   "source": [
    "trainX = trainX.reshape(trainX.shape[0],trainX.shape[1],1)\n",
    "testX = testX.reshape(testX.shape[0],testX.shape[1],1)"
   ]
  },
  {
   "cell_type": "code",
   "execution_count": 12,
   "id": "CwxuwCB0w9oN",
   "metadata": {
    "id": "CwxuwCB0w9oN"
   },
   "outputs": [],
   "source": [
    "import keras\n",
    "from keras import layers\n",
    "import tensorflow as tf"
   ]
  },
  {
   "cell_type": "code",
   "execution_count": 13,
   "id": "pieXv35uxerb",
   "metadata": {
    "id": "pieXv35uxerb"
   },
   "outputs": [],
   "source": [
    "def lstm_attention_model(input_shape):\n",
    "    inputs = keras.Input(shape=input_shape)\n",
    "    \n",
    "    # LSTM layer\n",
    "    lstm = layers.LSTM(100, activation=\"relu\",return_sequences=True)(inputs)\n",
    "    \n",
    "    # Attention mechanism\n",
    "    attention = layers.Dense(1, activation='relu')(lstm)\n",
    "    attention = layers.Flatten()(attention)\n",
    "    attention = layers.Activation('softmax')(attention)\n",
    "    attention = layers.RepeatVector(100)(attention)\n",
    "    attention = layers.Permute([2, 1])(attention)\n",
    "    attention = layers.Multiply()([lstm, attention])\n",
    "    attention = layers.Lambda(lambda x: tf.reduce_sum(x, axis=1))(attention)\n",
    "    \n",
    "    # Output layer\n",
    "    outputs = layers.Dense(output)(attention)\n",
    "    # outputs = layers.LeakyReLU(0.2)(outputs)\n",
    "    # Compile the model\n",
    "    model = keras.Model(inputs=inputs, outputs=outputs)\n",
    "    model.compile(loss='mse', optimizer='adam')\n",
    "    \n",
    "    return model"
   ]
  },
  {
   "cell_type": "code",
   "execution_count": 14,
   "id": "571a45cc-b33b-4cbf-9a42-18878c916b83",
   "metadata": {},
   "outputs": [
    {
     "name": "stdout",
     "output_type": "stream",
     "text": [
      "WARNING:tensorflow:From C:\\Users\\PLEXTEK\\miniconda3\\Lib\\site-packages\\keras\\src\\backend\\tensorflow\\core.py:184: The name tf.placeholder is deprecated. Please use tf.compat.v1.placeholder instead.\n",
      "\n"
     ]
    }
   ],
   "source": [
    "model2=lstm_attention_model(input_shape=(10,1))"
   ]
  },
  {
   "cell_type": "code",
   "execution_count": 15,
   "id": "d4bc0a98-3f99-4d38-8e7c-924f577d2fe0",
   "metadata": {},
   "outputs": [
    {
     "data": {
      "text/html": [
       "<pre style=\"white-space:pre;overflow-x:auto;line-height:normal;font-family:Menlo,'DejaVu Sans Mono',consolas,'Courier New',monospace\"><span style=\"font-weight: bold\">Model: \"functional_1\"</span>\n",
       "</pre>\n"
      ],
      "text/plain": [
       "\u001b[1mModel: \"functional_1\"\u001b[0m\n"
      ]
     },
     "metadata": {},
     "output_type": "display_data"
    },
    {
     "data": {
      "text/html": [
       "<pre style=\"white-space:pre;overflow-x:auto;line-height:normal;font-family:Menlo,'DejaVu Sans Mono',consolas,'Courier New',monospace\">┏━━━━━━━━━━━━━━━━━━━━━━━━━━━━━━━┳━━━━━━━━━━━━━━━━━━━━━━━━━━━┳━━━━━━━━━━━━━━━━━┳━━━━━━━━━━━━━━━━━━━━━━━━━━━━┓\n",
       "┃<span style=\"font-weight: bold\"> Layer (type)                  </span>┃<span style=\"font-weight: bold\"> Output Shape              </span>┃<span style=\"font-weight: bold\">         Param # </span>┃<span style=\"font-weight: bold\"> Connected to               </span>┃\n",
       "┡━━━━━━━━━━━━━━━━━━━━━━━━━━━━━━━╇━━━━━━━━━━━━━━━━━━━━━━━━━━━╇━━━━━━━━━━━━━━━━━╇━━━━━━━━━━━━━━━━━━━━━━━━━━━━┩\n",
       "│ input_layer (<span style=\"color: #0087ff; text-decoration-color: #0087ff\">InputLayer</span>)      │ (<span style=\"color: #00d7ff; text-decoration-color: #00d7ff\">None</span>, <span style=\"color: #00af00; text-decoration-color: #00af00\">10</span>, <span style=\"color: #00af00; text-decoration-color: #00af00\">1</span>)             │               <span style=\"color: #00af00; text-decoration-color: #00af00\">0</span> │ -                          │\n",
       "├───────────────────────────────┼───────────────────────────┼─────────────────┼────────────────────────────┤\n",
       "│ lstm (<span style=\"color: #0087ff; text-decoration-color: #0087ff\">LSTM</span>)                   │ (<span style=\"color: #00d7ff; text-decoration-color: #00d7ff\">None</span>, <span style=\"color: #00af00; text-decoration-color: #00af00\">10</span>, <span style=\"color: #00af00; text-decoration-color: #00af00\">100</span>)           │          <span style=\"color: #00af00; text-decoration-color: #00af00\">40,800</span> │ input_layer[<span style=\"color: #00af00; text-decoration-color: #00af00\">0</span>][<span style=\"color: #00af00; text-decoration-color: #00af00\">0</span>]          │\n",
       "├───────────────────────────────┼───────────────────────────┼─────────────────┼────────────────────────────┤\n",
       "│ dense (<span style=\"color: #0087ff; text-decoration-color: #0087ff\">Dense</span>)                 │ (<span style=\"color: #00d7ff; text-decoration-color: #00d7ff\">None</span>, <span style=\"color: #00af00; text-decoration-color: #00af00\">10</span>, <span style=\"color: #00af00; text-decoration-color: #00af00\">1</span>)             │             <span style=\"color: #00af00; text-decoration-color: #00af00\">101</span> │ lstm[<span style=\"color: #00af00; text-decoration-color: #00af00\">0</span>][<span style=\"color: #00af00; text-decoration-color: #00af00\">0</span>]                 │\n",
       "├───────────────────────────────┼───────────────────────────┼─────────────────┼────────────────────────────┤\n",
       "│ flatten (<span style=\"color: #0087ff; text-decoration-color: #0087ff\">Flatten</span>)             │ (<span style=\"color: #00d7ff; text-decoration-color: #00d7ff\">None</span>, <span style=\"color: #00af00; text-decoration-color: #00af00\">10</span>)                │               <span style=\"color: #00af00; text-decoration-color: #00af00\">0</span> │ dense[<span style=\"color: #00af00; text-decoration-color: #00af00\">0</span>][<span style=\"color: #00af00; text-decoration-color: #00af00\">0</span>]                │\n",
       "├───────────────────────────────┼───────────────────────────┼─────────────────┼────────────────────────────┤\n",
       "│ activation (<span style=\"color: #0087ff; text-decoration-color: #0087ff\">Activation</span>)       │ (<span style=\"color: #00d7ff; text-decoration-color: #00d7ff\">None</span>, <span style=\"color: #00af00; text-decoration-color: #00af00\">10</span>)                │               <span style=\"color: #00af00; text-decoration-color: #00af00\">0</span> │ flatten[<span style=\"color: #00af00; text-decoration-color: #00af00\">0</span>][<span style=\"color: #00af00; text-decoration-color: #00af00\">0</span>]              │\n",
       "├───────────────────────────────┼───────────────────────────┼─────────────────┼────────────────────────────┤\n",
       "│ repeat_vector (<span style=\"color: #0087ff; text-decoration-color: #0087ff\">RepeatVector</span>)  │ (<span style=\"color: #00d7ff; text-decoration-color: #00d7ff\">None</span>, <span style=\"color: #00af00; text-decoration-color: #00af00\">100</span>, <span style=\"color: #00af00; text-decoration-color: #00af00\">10</span>)           │               <span style=\"color: #00af00; text-decoration-color: #00af00\">0</span> │ activation[<span style=\"color: #00af00; text-decoration-color: #00af00\">0</span>][<span style=\"color: #00af00; text-decoration-color: #00af00\">0</span>]           │\n",
       "├───────────────────────────────┼───────────────────────────┼─────────────────┼────────────────────────────┤\n",
       "│ permute (<span style=\"color: #0087ff; text-decoration-color: #0087ff\">Permute</span>)             │ (<span style=\"color: #00d7ff; text-decoration-color: #00d7ff\">None</span>, <span style=\"color: #00af00; text-decoration-color: #00af00\">10</span>, <span style=\"color: #00af00; text-decoration-color: #00af00\">100</span>)           │               <span style=\"color: #00af00; text-decoration-color: #00af00\">0</span> │ repeat_vector[<span style=\"color: #00af00; text-decoration-color: #00af00\">0</span>][<span style=\"color: #00af00; text-decoration-color: #00af00\">0</span>]        │\n",
       "├───────────────────────────────┼───────────────────────────┼─────────────────┼────────────────────────────┤\n",
       "│ multiply (<span style=\"color: #0087ff; text-decoration-color: #0087ff\">Multiply</span>)           │ (<span style=\"color: #00d7ff; text-decoration-color: #00d7ff\">None</span>, <span style=\"color: #00af00; text-decoration-color: #00af00\">10</span>, <span style=\"color: #00af00; text-decoration-color: #00af00\">100</span>)           │               <span style=\"color: #00af00; text-decoration-color: #00af00\">0</span> │ lstm[<span style=\"color: #00af00; text-decoration-color: #00af00\">0</span>][<span style=\"color: #00af00; text-decoration-color: #00af00\">0</span>], permute[<span style=\"color: #00af00; text-decoration-color: #00af00\">0</span>][<span style=\"color: #00af00; text-decoration-color: #00af00\">0</span>]  │\n",
       "├───────────────────────────────┼───────────────────────────┼─────────────────┼────────────────────────────┤\n",
       "│ lambda (<span style=\"color: #0087ff; text-decoration-color: #0087ff\">Lambda</span>)               │ (<span style=\"color: #00d7ff; text-decoration-color: #00d7ff\">None</span>, <span style=\"color: #00af00; text-decoration-color: #00af00\">100</span>)               │               <span style=\"color: #00af00; text-decoration-color: #00af00\">0</span> │ multiply[<span style=\"color: #00af00; text-decoration-color: #00af00\">0</span>][<span style=\"color: #00af00; text-decoration-color: #00af00\">0</span>]             │\n",
       "├───────────────────────────────┼───────────────────────────┼─────────────────┼────────────────────────────┤\n",
       "│ dense_1 (<span style=\"color: #0087ff; text-decoration-color: #0087ff\">Dense</span>)               │ (<span style=\"color: #00d7ff; text-decoration-color: #00d7ff\">None</span>, <span style=\"color: #00af00; text-decoration-color: #00af00\">20</span>)                │           <span style=\"color: #00af00; text-decoration-color: #00af00\">2,020</span> │ lambda[<span style=\"color: #00af00; text-decoration-color: #00af00\">0</span>][<span style=\"color: #00af00; text-decoration-color: #00af00\">0</span>]               │\n",
       "└───────────────────────────────┴───────────────────────────┴─────────────────┴────────────────────────────┘\n",
       "</pre>\n"
      ],
      "text/plain": [
       "┏━━━━━━━━━━━━━━━━━━━━━━━━━━━━━━━┳━━━━━━━━━━━━━━━━━━━━━━━━━━━┳━━━━━━━━━━━━━━━━━┳━━━━━━━━━━━━━━━━━━━━━━━━━━━━┓\n",
       "┃\u001b[1m \u001b[0m\u001b[1mLayer (type)                 \u001b[0m\u001b[1m \u001b[0m┃\u001b[1m \u001b[0m\u001b[1mOutput Shape             \u001b[0m\u001b[1m \u001b[0m┃\u001b[1m \u001b[0m\u001b[1m        Param #\u001b[0m\u001b[1m \u001b[0m┃\u001b[1m \u001b[0m\u001b[1mConnected to              \u001b[0m\u001b[1m \u001b[0m┃\n",
       "┡━━━━━━━━━━━━━━━━━━━━━━━━━━━━━━━╇━━━━━━━━━━━━━━━━━━━━━━━━━━━╇━━━━━━━━━━━━━━━━━╇━━━━━━━━━━━━━━━━━━━━━━━━━━━━┩\n",
       "│ input_layer (\u001b[38;5;33mInputLayer\u001b[0m)      │ (\u001b[38;5;45mNone\u001b[0m, \u001b[38;5;34m10\u001b[0m, \u001b[38;5;34m1\u001b[0m)             │               \u001b[38;5;34m0\u001b[0m │ -                          │\n",
       "├───────────────────────────────┼───────────────────────────┼─────────────────┼────────────────────────────┤\n",
       "│ lstm (\u001b[38;5;33mLSTM\u001b[0m)                   │ (\u001b[38;5;45mNone\u001b[0m, \u001b[38;5;34m10\u001b[0m, \u001b[38;5;34m100\u001b[0m)           │          \u001b[38;5;34m40,800\u001b[0m │ input_layer[\u001b[38;5;34m0\u001b[0m][\u001b[38;5;34m0\u001b[0m]          │\n",
       "├───────────────────────────────┼───────────────────────────┼─────────────────┼────────────────────────────┤\n",
       "│ dense (\u001b[38;5;33mDense\u001b[0m)                 │ (\u001b[38;5;45mNone\u001b[0m, \u001b[38;5;34m10\u001b[0m, \u001b[38;5;34m1\u001b[0m)             │             \u001b[38;5;34m101\u001b[0m │ lstm[\u001b[38;5;34m0\u001b[0m][\u001b[38;5;34m0\u001b[0m]                 │\n",
       "├───────────────────────────────┼───────────────────────────┼─────────────────┼────────────────────────────┤\n",
       "│ flatten (\u001b[38;5;33mFlatten\u001b[0m)             │ (\u001b[38;5;45mNone\u001b[0m, \u001b[38;5;34m10\u001b[0m)                │               \u001b[38;5;34m0\u001b[0m │ dense[\u001b[38;5;34m0\u001b[0m][\u001b[38;5;34m0\u001b[0m]                │\n",
       "├───────────────────────────────┼───────────────────────────┼─────────────────┼────────────────────────────┤\n",
       "│ activation (\u001b[38;5;33mActivation\u001b[0m)       │ (\u001b[38;5;45mNone\u001b[0m, \u001b[38;5;34m10\u001b[0m)                │               \u001b[38;5;34m0\u001b[0m │ flatten[\u001b[38;5;34m0\u001b[0m][\u001b[38;5;34m0\u001b[0m]              │\n",
       "├───────────────────────────────┼───────────────────────────┼─────────────────┼────────────────────────────┤\n",
       "│ repeat_vector (\u001b[38;5;33mRepeatVector\u001b[0m)  │ (\u001b[38;5;45mNone\u001b[0m, \u001b[38;5;34m100\u001b[0m, \u001b[38;5;34m10\u001b[0m)           │               \u001b[38;5;34m0\u001b[0m │ activation[\u001b[38;5;34m0\u001b[0m][\u001b[38;5;34m0\u001b[0m]           │\n",
       "├───────────────────────────────┼───────────────────────────┼─────────────────┼────────────────────────────┤\n",
       "│ permute (\u001b[38;5;33mPermute\u001b[0m)             │ (\u001b[38;5;45mNone\u001b[0m, \u001b[38;5;34m10\u001b[0m, \u001b[38;5;34m100\u001b[0m)           │               \u001b[38;5;34m0\u001b[0m │ repeat_vector[\u001b[38;5;34m0\u001b[0m][\u001b[38;5;34m0\u001b[0m]        │\n",
       "├───────────────────────────────┼───────────────────────────┼─────────────────┼────────────────────────────┤\n",
       "│ multiply (\u001b[38;5;33mMultiply\u001b[0m)           │ (\u001b[38;5;45mNone\u001b[0m, \u001b[38;5;34m10\u001b[0m, \u001b[38;5;34m100\u001b[0m)           │               \u001b[38;5;34m0\u001b[0m │ lstm[\u001b[38;5;34m0\u001b[0m][\u001b[38;5;34m0\u001b[0m], permute[\u001b[38;5;34m0\u001b[0m][\u001b[38;5;34m0\u001b[0m]  │\n",
       "├───────────────────────────────┼───────────────────────────┼─────────────────┼────────────────────────────┤\n",
       "│ lambda (\u001b[38;5;33mLambda\u001b[0m)               │ (\u001b[38;5;45mNone\u001b[0m, \u001b[38;5;34m100\u001b[0m)               │               \u001b[38;5;34m0\u001b[0m │ multiply[\u001b[38;5;34m0\u001b[0m][\u001b[38;5;34m0\u001b[0m]             │\n",
       "├───────────────────────────────┼───────────────────────────┼─────────────────┼────────────────────────────┤\n",
       "│ dense_1 (\u001b[38;5;33mDense\u001b[0m)               │ (\u001b[38;5;45mNone\u001b[0m, \u001b[38;5;34m20\u001b[0m)                │           \u001b[38;5;34m2,020\u001b[0m │ lambda[\u001b[38;5;34m0\u001b[0m][\u001b[38;5;34m0\u001b[0m]               │\n",
       "└───────────────────────────────┴───────────────────────────┴─────────────────┴────────────────────────────┘\n"
      ]
     },
     "metadata": {},
     "output_type": "display_data"
    },
    {
     "data": {
      "text/html": [
       "<pre style=\"white-space:pre;overflow-x:auto;line-height:normal;font-family:Menlo,'DejaVu Sans Mono',consolas,'Courier New',monospace\"><span style=\"font-weight: bold\"> Total params: </span><span style=\"color: #00af00; text-decoration-color: #00af00\">42,921</span> (167.66 KB)\n",
       "</pre>\n"
      ],
      "text/plain": [
       "\u001b[1m Total params: \u001b[0m\u001b[38;5;34m42,921\u001b[0m (167.66 KB)\n"
      ]
     },
     "metadata": {},
     "output_type": "display_data"
    },
    {
     "data": {
      "text/html": [
       "<pre style=\"white-space:pre;overflow-x:auto;line-height:normal;font-family:Menlo,'DejaVu Sans Mono',consolas,'Courier New',monospace\"><span style=\"font-weight: bold\"> Trainable params: </span><span style=\"color: #00af00; text-decoration-color: #00af00\">42,921</span> (167.66 KB)\n",
       "</pre>\n"
      ],
      "text/plain": [
       "\u001b[1m Trainable params: \u001b[0m\u001b[38;5;34m42,921\u001b[0m (167.66 KB)\n"
      ]
     },
     "metadata": {},
     "output_type": "display_data"
    },
    {
     "data": {
      "text/html": [
       "<pre style=\"white-space:pre;overflow-x:auto;line-height:normal;font-family:Menlo,'DejaVu Sans Mono',consolas,'Courier New',monospace\"><span style=\"font-weight: bold\"> Non-trainable params: </span><span style=\"color: #00af00; text-decoration-color: #00af00\">0</span> (0.00 B)\n",
       "</pre>\n"
      ],
      "text/plain": [
       "\u001b[1m Non-trainable params: \u001b[0m\u001b[38;5;34m0\u001b[0m (0.00 B)\n"
      ]
     },
     "metadata": {},
     "output_type": "display_data"
    }
   ],
   "source": [
    "model2.summary()"
   ]
  },
  {
   "cell_type": "code",
   "execution_count": 16,
   "id": "f9d9ab96-9267-4a50-9d89-64c7d691e281",
   "metadata": {},
   "outputs": [
    {
     "name": "stdout",
     "output_type": "stream",
     "text": [
      "Epoch 1/20\n",
      "\u001b[1m10025/10025\u001b[0m \u001b[32m━━━━━━━━━━━━━━━━━━━━\u001b[0m\u001b[37m\u001b[0m \u001b[1m35s\u001b[0m 3ms/step - loss: 0.0149 - val_loss: 0.0074\n",
      "Epoch 2/20\n",
      "\u001b[1m10025/10025\u001b[0m \u001b[32m━━━━━━━━━━━━━━━━━━━━\u001b[0m\u001b[37m\u001b[0m \u001b[1m37s\u001b[0m 4ms/step - loss: 0.0083 - val_loss: 0.0070\n",
      "Epoch 3/20\n",
      "\u001b[1m10025/10025\u001b[0m \u001b[32m━━━━━━━━━━━━━━━━━━━━\u001b[0m\u001b[37m\u001b[0m \u001b[1m34s\u001b[0m 3ms/step - loss: 0.0076 - val_loss: 0.0062\n",
      "Epoch 4/20\n",
      "\u001b[1m10025/10025\u001b[0m \u001b[32m━━━━━━━━━━━━━━━━━━━━\u001b[0m\u001b[37m\u001b[0m \u001b[1m35s\u001b[0m 3ms/step - loss: 0.0072 - val_loss: 0.0058\n",
      "Epoch 5/20\n",
      "\u001b[1m10025/10025\u001b[0m \u001b[32m━━━━━━━━━━━━━━━━━━━━\u001b[0m\u001b[37m\u001b[0m \u001b[1m34s\u001b[0m 3ms/step - loss: 0.0070 - val_loss: 0.0063\n",
      "Epoch 6/20\n",
      "\u001b[1m10025/10025\u001b[0m \u001b[32m━━━━━━━━━━━━━━━━━━━━\u001b[0m\u001b[37m\u001b[0m \u001b[1m32s\u001b[0m 3ms/step - loss: 0.0069 - val_loss: 0.0057\n",
      "Epoch 7/20\n",
      "\u001b[1m10025/10025\u001b[0m \u001b[32m━━━━━━━━━━━━━━━━━━━━\u001b[0m\u001b[37m\u001b[0m \u001b[1m34s\u001b[0m 3ms/step - loss: 0.0069 - val_loss: 0.0056\n",
      "Epoch 8/20\n",
      "\u001b[1m10025/10025\u001b[0m \u001b[32m━━━━━━━━━━━━━━━━━━━━\u001b[0m\u001b[37m\u001b[0m \u001b[1m32s\u001b[0m 3ms/step - loss: 0.0067 - val_loss: 0.0059\n",
      "Epoch 9/20\n",
      "\u001b[1m10025/10025\u001b[0m \u001b[32m━━━━━━━━━━━━━━━━━━━━\u001b[0m\u001b[37m\u001b[0m \u001b[1m33s\u001b[0m 3ms/step - loss: 0.0067 - val_loss: 0.0060\n",
      "Epoch 10/20\n",
      "\u001b[1m10025/10025\u001b[0m \u001b[32m━━━━━━━━━━━━━━━━━━━━\u001b[0m\u001b[37m\u001b[0m \u001b[1m32s\u001b[0m 3ms/step - loss: 0.0067 - val_loss: 0.0057\n",
      "Epoch 11/20\n",
      "\u001b[1m10025/10025\u001b[0m \u001b[32m━━━━━━━━━━━━━━━━━━━━\u001b[0m\u001b[37m\u001b[0m \u001b[1m33s\u001b[0m 3ms/step - loss: 0.0066 - val_loss: 0.0057\n",
      "Epoch 12/20\n",
      "\u001b[1m10025/10025\u001b[0m \u001b[32m━━━━━━━━━━━━━━━━━━━━\u001b[0m\u001b[37m\u001b[0m \u001b[1m39s\u001b[0m 4ms/step - loss: 0.0065 - val_loss: 0.0056\n",
      "Epoch 13/20\n",
      "\u001b[1m10025/10025\u001b[0m \u001b[32m━━━━━━━━━━━━━━━━━━━━\u001b[0m\u001b[37m\u001b[0m \u001b[1m41s\u001b[0m 4ms/step - loss: 0.0065 - val_loss: 0.0057\n",
      "Epoch 14/20\n",
      "\u001b[1m10025/10025\u001b[0m \u001b[32m━━━━━━━━━━━━━━━━━━━━\u001b[0m\u001b[37m\u001b[0m \u001b[1m42s\u001b[0m 4ms/step - loss: 0.0064 - val_loss: 0.0055\n",
      "Epoch 15/20\n",
      "\u001b[1m10025/10025\u001b[0m \u001b[32m━━━━━━━━━━━━━━━━━━━━\u001b[0m\u001b[37m\u001b[0m \u001b[1m42s\u001b[0m 4ms/step - loss: 0.0066 - val_loss: 0.0055\n",
      "Epoch 16/20\n",
      "\u001b[1m10025/10025\u001b[0m \u001b[32m━━━━━━━━━━━━━━━━━━━━\u001b[0m\u001b[37m\u001b[0m \u001b[1m53s\u001b[0m 5ms/step - loss: 0.0064 - val_loss: 0.0058\n",
      "Epoch 17/20\n",
      "\u001b[1m10025/10025\u001b[0m \u001b[32m━━━━━━━━━━━━━━━━━━━━\u001b[0m\u001b[37m\u001b[0m \u001b[1m45s\u001b[0m 4ms/step - loss: 0.0065 - val_loss: 0.0057\n",
      "Epoch 18/20\n",
      "\u001b[1m10025/10025\u001b[0m \u001b[32m━━━━━━━━━━━━━━━━━━━━\u001b[0m\u001b[37m\u001b[0m \u001b[1m43s\u001b[0m 4ms/step - loss: 0.0065 - val_loss: 0.0055\n",
      "Epoch 19/20\n",
      "\u001b[1m10025/10025\u001b[0m \u001b[32m━━━━━━━━━━━━━━━━━━━━\u001b[0m\u001b[37m\u001b[0m \u001b[1m43s\u001b[0m 4ms/step - loss: 0.0064 - val_loss: 0.0055\n",
      "Epoch 20/20\n",
      "\u001b[1m10025/10025\u001b[0m \u001b[32m━━━━━━━━━━━━━━━━━━━━\u001b[0m\u001b[37m\u001b[0m \u001b[1m43s\u001b[0m 4ms/step - loss: 0.0063 - val_loss: 0.0054\n"
     ]
    },
    {
     "data": {
      "text/plain": [
       "<keras.src.callbacks.history.History at 0x1d97ff6cd40>"
      ]
     },
     "execution_count": 16,
     "metadata": {},
     "output_type": "execute_result"
    }
   ],
   "source": [
    "model2.fit(trainX, trainY, batch_size=32 , validation_data=(testX, testY),epochs=20)"
   ]
  },
  {
   "cell_type": "code",
   "execution_count": 17,
   "id": "cd3c846b-57b6-4228-acb0-84e99b71c6ce",
   "metadata": {},
   "outputs": [
    {
     "name": "stdout",
     "output_type": "stream",
     "text": [
      "\u001b[1m10025/10025\u001b[0m \u001b[32m━━━━━━━━━━━━━━━━━━━━\u001b[0m\u001b[37m\u001b[0m \u001b[1m20s\u001b[0m 2ms/step\n",
      "\u001b[1m2506/2506\u001b[0m \u001b[32m━━━━━━━━━━━━━━━━━━━━\u001b[0m\u001b[37m\u001b[0m \u001b[1m5s\u001b[0m 2ms/step\n"
     ]
    }
   ],
   "source": [
    "trainPredict = model2.predict(trainX)\n",
    "testPredict = model2.predict(testX)"
   ]
  },
  {
   "cell_type": "code",
   "execution_count": 18,
   "id": "b4b15dba-55dd-4c17-9200-dbf3a25826b4",
   "metadata": {},
   "outputs": [
    {
     "data": {
      "text/plain": [
       "(320769, 20)"
      ]
     },
     "execution_count": 18,
     "metadata": {},
     "output_type": "execute_result"
    }
   ],
   "source": [
    "trainPredict.shape"
   ]
  },
  {
   "cell_type": "code",
   "execution_count": 19,
   "id": "741ac2ba-20fa-4c44-983d-0e51ff405d8f",
   "metadata": {},
   "outputs": [
    {
     "data": {
      "text/plain": [
       "(320769, 20)"
      ]
     },
     "execution_count": 19,
     "metadata": {},
     "output_type": "execute_result"
    }
   ],
   "source": [
    "trainY.shape"
   ]
  },
  {
   "cell_type": "code",
   "execution_count": 20,
   "id": "ee4f379a-89bc-44f8-b64e-7b0b5cc989b0",
   "metadata": {},
   "outputs": [],
   "source": [
    "trainPredict = scaler.inverse_transform(trainPredict)\n",
    "testPredict = scaler.inverse_transform(testPredict)\n",
    "trainY= scaler.inverse_transform(trainY)\n",
    "testY= scaler.inverse_transform(testY)"
   ]
  },
  {
   "cell_type": "code",
   "execution_count": 21,
   "id": "4b7747f8-5a35-46c6-a3fc-ec017401ac62",
   "metadata": {},
   "outputs": [],
   "source": [
    "from sklearn.metrics import  mean_squared_error as mse\n",
    "import math"
   ]
  },
  {
   "cell_type": "code",
   "execution_count": 22,
   "id": "d1ff4901-9c39-45bd-a12b-afc8ee34f732",
   "metadata": {},
   "outputs": [],
   "source": [
    "train_RMSE = math.sqrt(mse(trainPredict,trainY))\n",
    "test_RMSE = math.sqrt(mse(testPredict,testY))"
   ]
  },
  {
   "cell_type": "code",
   "execution_count": 23,
   "id": "c600c985-c846-4d8d-aa15-4a4914655e4f",
   "metadata": {},
   "outputs": [
    {
     "data": {
      "text/plain": [
       "11.779513688986631"
      ]
     },
     "execution_count": 23,
     "metadata": {},
     "output_type": "execute_result"
    }
   ],
   "source": [
    "train_RMSE"
   ]
  },
  {
   "cell_type": "code",
   "execution_count": 24,
   "id": "91a74aed-d81b-48dc-b537-f2135b101952",
   "metadata": {},
   "outputs": [
    {
     "data": {
      "text/plain": [
       "10.964139572596785"
      ]
     },
     "execution_count": 24,
     "metadata": {},
     "output_type": "execute_result"
    }
   ],
   "source": [
    "test_RMSE"
   ]
  },
  {
   "cell_type": "code",
   "execution_count": 34,
   "id": "a010bce4-0552-4007-9311-867d0fce20e3",
   "metadata": {},
   "outputs": [
    {
     "data": {
      "text/plain": [
       "array([[32.069893, 33.049004, 33.371048, 34.071594, 34.91652 , 36.167248,\n",
       "        37.26096 , 38.187164, 38.498688, 39.440292, 40.37851 , 41.135796,\n",
       "        42.093945, 42.946217, 43.18656 , 44.39231 , 44.51736 , 45.65736 ,\n",
       "        45.971016, 46.010914],\n",
       "       [39.092766, 41.40087 , 43.65356 , 45.860485, 48.10038 , 50.42348 ,\n",
       "        52.65236 , 54.247234, 55.66103 , 57.879223, 59.70808 , 61.72963 ,\n",
       "        63.674988, 65.781975, 67.38692 , 69.22411 , 70.01432 , 71.82707 ,\n",
       "        73.16682 , 73.79891 ],\n",
       "       [47.772717, 50.378788, 53.10357 , 55.05629 , 57.715168, 59.97448 ,\n",
       "        61.445206, 63.57112 , 65.16399 , 67.62801 , 69.53308 , 72.17028 ,\n",
       "        74.42233 , 77.043915, 79.19229 , 80.766754, 81.64606 , 83.11494 ,\n",
       "        85.25675 , 86.11178 ],\n",
       "       [45.635826, 47.075672, 49.039158, 50.302685, 52.52668 , 54.299217,\n",
       "        55.262287, 57.24025 , 58.649216, 60.70524 , 62.415882, 64.90809 ,\n",
       "        66.99948 , 69.326904, 71.29425 , 72.3589  , 73.11095 , 74.06258 ,\n",
       "        76.01783 , 76.9075  ],\n",
       "       [50.371   , 52.16251 , 53.882618, 55.33958 , 57.11766 , 58.825737,\n",
       "        60.010853, 61.79972 , 62.85203 , 64.28767 , 66.06745 , 67.893394,\n",
       "        69.7863  , 71.37168 , 72.548615, 73.40777 , 74.17221 , 74.905785,\n",
       "        76.05555 , 76.85304 ],\n",
       "       [53.681232, 55.495094, 57.559887, 59.35666 , 61.440643, 63.194202,\n",
       "        64.91003 , 66.59992 , 68.02498 , 69.57357 , 71.59245 , 73.40267 ,\n",
       "        75.2029  , 76.894356, 78.36338 , 79.1273  , 80.1318  , 80.91314 ,\n",
       "        82.092926, 82.87668 ],\n",
       "       [58.473015, 60.801155, 63.15954 , 65.375854, 67.66683 , 69.584595,\n",
       "        71.679565, 73.51412 , 75.14994 , 77.0253  , 79.07922 , 80.99359 ,\n",
       "        82.92888 , 84.78421 , 86.39185 , 87.389534, 88.651184, 89.536095,\n",
       "        90.84393 , 91.914635],\n",
       "       [62.263943, 64.77492 , 67.14975 , 69.51437 , 71.95701 , 73.93645 ,\n",
       "        76.51989 , 78.380394, 80.38054 , 82.40172 , 84.60806 , 86.62866 ,\n",
       "        88.66656 , 90.67577 , 92.4591  , 93.69394 , 95.1598  , 96.329315,\n",
       "        97.87657 , 99.08737 ],\n",
       "       [60.350662, 61.487083, 62.878914, 64.661644, 66.51586 , 68.25625 ,\n",
       "        70.682625, 72.555435, 74.44787 , 76.32233 , 78.46447 , 80.364365,\n",
       "        82.49577 , 84.303734, 85.981636, 87.423485, 88.91786 , 90.299934,\n",
       "        91.963875, 93.165146],\n",
       "       [58.800266, 59.89684 , 61.080013, 62.99942 , 64.72567 , 66.6566  ,\n",
       "        68.81915 , 70.86591 , 72.44295 , 74.221855, 76.17745 , 77.738045,\n",
       "        79.82089 , 81.28662 , 82.66901 , 83.9884  , 85.23782 , 86.48194 ,\n",
       "        87.9026  , 88.81942 ]], dtype=float32)"
      ]
     },
     "execution_count": 34,
     "metadata": {},
     "output_type": "execute_result"
    }
   ],
   "source": [
    "trainPredict[:10]"
   ]
  },
  {
   "cell_type": "code",
   "execution_count": 33,
   "id": "33a5095e-cd94-4303-b055-4b5b7dd5a2e9",
   "metadata": {},
   "outputs": [
    {
     "data": {
      "text/plain": [
       "array([[35.73    , 40.791996, 42.312   , 46.647   , 49.429   , 52.68    ,\n",
       "        56.724   , 55.462006, 55.672   , 54.540005, 52.421   , 51.208   ,\n",
       "        50.691   , 51.483   , 52.987995, 52.567   , 53.829   , 55.543   ,\n",
       "        54.524   , 56.077   ],\n",
       "       [40.791996, 42.312   , 46.647   , 49.429   , 52.68    , 56.724   ,\n",
       "        55.462006, 55.672   , 54.540005, 52.421   , 51.208   , 50.691   ,\n",
       "        51.483   , 52.987995, 52.567   , 53.829   , 55.543   , 54.524   ,\n",
       "        56.077   , 57.71    ],\n",
       "       [42.312   , 46.647   , 49.429   , 52.68    , 56.724   , 55.462006,\n",
       "        55.672   , 54.540005, 52.421   , 51.208   , 50.691   , 51.483   ,\n",
       "        52.987995, 52.567   , 53.829   , 55.543   , 54.524   , 56.077   ,\n",
       "        57.71    , 57.84    ],\n",
       "       [46.647   , 49.429   , 52.68    , 56.724   , 55.462006, 55.672   ,\n",
       "        54.540005, 52.421   , 51.208   , 50.691   , 51.483   , 52.987995,\n",
       "        52.567   , 53.829   , 55.543   , 54.524   , 56.077   , 57.71    ,\n",
       "        57.84    , 58.099   ],\n",
       "       [49.429   , 52.68    , 56.724   , 55.462006, 55.672   , 54.540005,\n",
       "        52.421   , 51.208   , 50.691   , 51.483   , 52.987995, 52.567   ,\n",
       "        53.829   , 55.543   , 54.524   , 56.077   , 57.71    , 57.84    ,\n",
       "        58.099   , 58.713   ],\n",
       "       [52.68    , 56.724   , 55.462006, 55.672   , 54.540005, 52.421   ,\n",
       "        51.208   , 50.691   , 51.483   , 52.987995, 52.567   , 53.829   ,\n",
       "        55.543   , 54.524   , 56.077   , 57.71    , 57.84    , 58.099   ,\n",
       "        58.713   , 59.328   ],\n",
       "       [56.724   , 55.462006, 55.672   , 54.540005, 52.421   , 51.208   ,\n",
       "        50.691   , 51.483   , 52.987995, 52.567   , 53.829   , 55.543   ,\n",
       "        54.524   , 56.077   , 57.71    , 57.84    , 58.099   , 58.713   ,\n",
       "        59.328   , 57.646   ],\n",
       "       [55.462006, 55.672   , 54.540005, 52.421   , 51.208   , 50.691   ,\n",
       "        51.483   , 52.987995, 52.567   , 53.829   , 55.543   , 54.524   ,\n",
       "        56.077   , 57.71    , 57.84    , 58.099   , 58.713   , 59.328   ,\n",
       "        57.646   , 56.497   ],\n",
       "       [55.672   , 54.540005, 52.421   , 51.208   , 50.691   , 51.483   ,\n",
       "        52.987995, 52.567   , 53.829   , 55.543   , 54.524   , 56.077   ,\n",
       "        57.71    , 57.84    , 58.099   , 58.713   , 59.328   , 57.646   ,\n",
       "        56.497   , 56.19    ],\n",
       "       [54.540005, 52.421   , 51.208   , 50.691   , 51.483   , 52.987995,\n",
       "        52.567   , 53.829   , 55.543   , 54.524   , 56.077   , 57.71    ,\n",
       "        57.84    , 58.099   , 58.713   , 59.328   , 57.646   , 56.497   ,\n",
       "        56.19    , 31.67    ]], dtype=float32)"
      ]
     },
     "execution_count": 33,
     "metadata": {},
     "output_type": "execute_result"
    }
   ],
   "source": [
    "trainY[:10]"
   ]
  },
  {
   "cell_type": "code",
   "execution_count": 32,
   "id": "e3740a6e-a5ae-4c19-95f0-cfaee0fafabd",
   "metadata": {},
   "outputs": [
    {
     "data": {
      "text/plain": [
       "[<matplotlib.lines.Line2D at 0x1d913bacb00>]"
      ]
     },
     "execution_count": 32,
     "metadata": {},
     "output_type": "execute_result"
    },
    {
     "data": {
      "image/png": "[encoded data removed]",
      "text/plain": [
       "<Figure size 640x480 with 1 Axes>"
      ]
     },
     "metadata": {},
     "output_type": "display_data"
    }
   ],
   "source": [
    "plt.plot(testY[400:800,19], color='r')\n",
    "plt.plot(testPredict[400:800,19])"
   ]
  },
  {
   "cell_type": "code",
   "execution_count": 28,
   "id": "7cbc23c8-df50-47be-9faf-a6e5f5093aff",
   "metadata": {},
   "outputs": [
    {
     "name": "stdout",
     "output_type": "stream",
     "text": [
      "(1, 10, 1)\n"
     ]
    }
   ],
   "source": [
    "x_test = np.array([0.067932,0.23938,3.3028,5.7289,13.299,19.154,23.278,29.618,32.772,34.746])\n",
    "x_test = x_test.reshape((-1, 10,1))\n",
    "print(x_test.shape)"
   ]
  },
  {
   "cell_type": "code",
   "execution_count": 29,
   "id": "3ba933fb-6ef5-49a2-a25c-a052be32cd07",
   "metadata": {},
   "outputs": [
    {
     "name": "stdout",
     "output_type": "stream",
     "text": [
      "\u001b[1m1/1\u001b[0m \u001b[32m━━━━━━━━━━━━━━━━━━━━\u001b[0m\u001b[37m\u001b[0m \u001b[1m0s\u001b[0m 20ms/step\n"
     ]
    }
   ],
   "source": [
    "yhat = model2.predict(x_test)"
   ]
  },
  {
   "cell_type": "code",
   "execution_count": 30,
   "id": "59a31503-86db-471b-b311-8bb321e1d203",
   "metadata": {},
   "outputs": [
    {
     "data": {
      "text/plain": [
       "array([[34.38175 , 42.064816, 43.222767, 46.84898 , 47.560802, 49.41401 ,\n",
       "        51.218422, 51.198185, 51.284996, 52.611034, 54.008595, 54.01367 ,\n",
       "        58.32544 , 63.96942 , 67.01068 , 68.26464 , 66.815   , 69.19427 ,\n",
       "        71.969025, 68.78907 ]], dtype=float32)"
      ]
     },
     "execution_count": 30,
     "metadata": {},
     "output_type": "execute_result"
    }
   ],
   "source": [
    "yhat"
   ]
  },
  {
   "cell_type": "code",
   "execution_count": null,
   "id": "ba9e1cdd-86d2-49f3-a1db-41dbf3b96915",
   "metadata": {},
   "outputs": [],
   "source": []
  }
 ],
 "metadata": {
  "accelerator": "GPU",
  "colab": {
   "gpuType": "T4",
   "provenance": []
  },
  "kernelspec": {
   "display_name": "Python 3 (ipykernel)",
   "language": "python",
   "name": "python3"
  },
  "language_info": {
   "codemirror_mode": {
    "name": "ipython",
    "version": 3
   },
   "file_extension": ".py",
   "mimetype": "text/x-python",
   "name": "python",
   "nbconvert_exporter": "python",
   "pygments_lexer": "ipython3",
   "version": "3.12.2"
  }
 },
 "nbformat": 4,
 "nbformat_minor": 5
}
