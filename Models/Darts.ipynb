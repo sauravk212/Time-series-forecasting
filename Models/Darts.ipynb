{
 "cells": [
  {
   "cell_type": "code",
   "execution_count": 1,
   "metadata": {
    "colab": {
     "base_uri": "https://localhost:8080/"
    },
    "id": "GeEaZmSRLmA_",
    "outputId": "3ce6980e-69ea-40fa-f4d1-a8c4cd7003a5"
   },
   "outputs": [
    {
     "name": "stdout",
     "output_type": "stream",
     "text": [
      "Requirement already satisfied: darts in c:\\users\\plextek\\appdata\\roaming\\python\\python311\\site-packages (0.29.0)\n",
      "Requirement already satisfied: holidays>=0.11.1 in c:\\users\\plextek\\appdata\\roaming\\python\\python311\\site-packages (from darts) (0.47)\n",
      "Requirement already satisfied: joblib>=0.16.0 in c:\\users\\plextek\\anaconda3\\lib\\site-packages (from darts) (1.2.0)\n",
      "Requirement already satisfied: matplotlib>=3.3.0 in c:\\users\\plextek\\anaconda3\\lib\\site-packages (from darts) (3.8.0)\n",
      "Requirement already satisfied: nfoursid>=1.0.0 in c:\\users\\plextek\\appdata\\roaming\\python\\python311\\site-packages (from darts) (1.0.1)\n",
      "Requirement already satisfied: numpy>=1.19.0 in c:\\users\\plextek\\appdata\\roaming\\python\\python311\\site-packages (from darts) (1.24.4)\n",
      "Requirement already satisfied: pmdarima>=1.8.0 in c:\\users\\plextek\\appdata\\roaming\\python\\python311\\site-packages (from darts) (2.0.4)\n",
      "Requirement already satisfied: pyod>=0.9.5 in c:\\users\\plextek\\appdata\\roaming\\python\\python311\\site-packages (from darts) (1.1.3)\n",
      "Requirement already satisfied: requests>=2.22.0 in c:\\users\\plextek\\anaconda3\\lib\\site-packages (from darts) (2.31.0)\n",
      "Requirement already satisfied: scikit-learn>=1.0.1 in c:\\users\\plextek\\anaconda3\\lib\\site-packages (from darts) (1.2.2)\n",
      "Requirement already satisfied: scipy>=1.3.2 in c:\\users\\plextek\\anaconda3\\lib\\site-packages (from darts) (1.11.4)\n",
      "Requirement already satisfied: shap>=0.40.0 in c:\\users\\plextek\\appdata\\roaming\\python\\python311\\site-packages (from darts) (0.45.0)\n",
      "Requirement already satisfied: statsforecast>=1.4 in c:\\users\\plextek\\appdata\\roaming\\python\\python311\\site-packages (from darts) (1.7.4)\n",
      "Requirement already satisfied: statsmodels>=0.14.0 in c:\\users\\plextek\\appdata\\roaming\\python\\python311\\site-packages (from darts) (0.14.2)\n",
      "Requirement already satisfied: tbats>=1.1.0 in c:\\users\\plextek\\appdata\\roaming\\python\\python311\\site-packages (from darts) (1.1.3)\n",
      "Requirement already satisfied: tqdm>=4.60.0 in c:\\users\\plextek\\anaconda3\\lib\\site-packages (from darts) (4.65.0)\n",
      "Requirement already satisfied: typing-extensions in c:\\users\\plextek\\appdata\\roaming\\python\\python311\\site-packages (from darts) (4.9.0)\n",
      "Requirement already satisfied: xarray>=0.17.0 in c:\\users\\plextek\\anaconda3\\lib\\site-packages (from darts) (2023.6.0)\n",
      "Requirement already satisfied: xgboost>=1.6.0 in c:\\users\\plextek\\appdata\\roaming\\python\\python311\\site-packages (from darts) (2.0.3)\n",
      "Requirement already satisfied: pytorch-lightning>=1.5.0 in c:\\users\\plextek\\appdata\\roaming\\python\\python311\\site-packages (from darts) (2.2.2)\n",
      "Requirement already satisfied: tensorboardX>=2.1 in c:\\users\\plextek\\appdata\\roaming\\python\\python311\\site-packages (from darts) (2.6.2.2)\n",
      "Requirement already satisfied: torch>=1.8.0 in c:\\users\\plextek\\appdata\\roaming\\python\\python311\\site-packages (from darts) (2.2.0)\n",
      "Requirement already satisfied: pandas>=1.0.5 in c:\\users\\plextek\\anaconda3\\lib\\site-packages (from darts) (2.1.4)\n",
      "Requirement already satisfied: python-dateutil in c:\\users\\plextek\\anaconda3\\lib\\site-packages (from holidays>=0.11.1->darts) (2.8.2)\n",
      "Requirement already satisfied: contourpy>=1.0.1 in c:\\users\\plextek\\anaconda3\\lib\\site-packages (from matplotlib>=3.3.0->darts) (1.2.0)\n",
      "Requirement already satisfied: cycler>=0.10 in c:\\users\\plextek\\anaconda3\\lib\\site-packages (from matplotlib>=3.3.0->darts) (0.11.0)\n",
      "Requirement already satisfied: fonttools>=4.22.0 in c:\\users\\plextek\\anaconda3\\lib\\site-packages (from matplotlib>=3.3.0->darts) (4.25.0)\n",
      "Requirement already satisfied: kiwisolver>=1.0.1 in c:\\users\\plextek\\anaconda3\\lib\\site-packages (from matplotlib>=3.3.0->darts) (1.4.4)\n",
      "Requirement already satisfied: packaging>=20.0 in c:\\users\\plextek\\anaconda3\\lib\\site-packages (from matplotlib>=3.3.0->darts) (23.1)\n",
      "Requirement already satisfied: pillow>=6.2.0 in c:\\users\\plextek\\anaconda3\\lib\\site-packages (from matplotlib>=3.3.0->darts) (10.2.0)\n",
      "Requirement already satisfied: pyparsing>=2.3.1 in c:\\users\\plextek\\anaconda3\\lib\\site-packages (from matplotlib>=3.3.0->darts) (3.0.9)\n",
      "Requirement already satisfied: pytz>=2020.1 in c:\\users\\plextek\\anaconda3\\lib\\site-packages (from pandas>=1.0.5->darts) (2023.3.post1)\n",
      "Requirement already satisfied: tzdata>=2022.1 in c:\\users\\plextek\\anaconda3\\lib\\site-packages (from pandas>=1.0.5->darts) (2023.3)\n",
      "Requirement already satisfied: Cython!=0.29.18,!=0.29.31,>=0.29 in c:\\users\\plextek\\appdata\\roaming\\python\\python311\\site-packages (from pmdarima>=1.8.0->darts) (3.0.8)\n",
      "Requirement already satisfied: urllib3 in c:\\users\\plextek\\anaconda3\\lib\\site-packages (from pmdarima>=1.8.0->darts) (2.0.7)\n",
      "Requirement already satisfied: setuptools!=50.0.0,>=38.6.0 in c:\\users\\plextek\\anaconda3\\lib\\site-packages (from pmdarima>=1.8.0->darts) (68.2.2)\n",
      "Requirement already satisfied: numba>=0.51 in c:\\users\\plextek\\anaconda3\\lib\\site-packages (from pyod>=0.9.5->darts) (0.59.0)\n",
      "Requirement already satisfied: six in c:\\users\\plextek\\anaconda3\\lib\\site-packages (from pyod>=0.9.5->darts) (1.16.0)\n",
      "Requirement already satisfied: PyYAML>=5.4 in c:\\users\\plextek\\anaconda3\\lib\\site-packages (from pytorch-lightning>=1.5.0->darts) (6.0.1)\n",
      "Requirement already satisfied: fsspec>=2022.5.0 in c:\\users\\plextek\\anaconda3\\lib\\site-packages (from fsspec[http]>=2022.5.0->pytorch-lightning>=1.5.0->darts) (2023.10.0)\n",
      "Requirement already satisfied: torchmetrics>=0.7.0 in c:\\users\\plextek\\appdata\\roaming\\python\\python311\\site-packages (from pytorch-lightning>=1.5.0->darts) (1.3.2)\n",
      "Requirement already satisfied: lightning-utilities>=0.8.0 in c:\\users\\plextek\\appdata\\roaming\\python\\python311\\site-packages (from pytorch-lightning>=1.5.0->darts) (0.11.2)\n",
      "Requirement already satisfied: charset-normalizer<4,>=2 in c:\\users\\plextek\\anaconda3\\lib\\site-packages (from requests>=2.22.0->darts) (2.0.4)\n",
      "Requirement already satisfied: idna<4,>=2.5 in c:\\users\\plextek\\anaconda3\\lib\\site-packages (from requests>=2.22.0->darts) (3.4)\n",
      "Requirement already satisfied: certifi>=2017.4.17 in c:\\users\\plextek\\anaconda3\\lib\\site-packages (from requests>=2.22.0->darts) (2024.2.2)\n",
      "Requirement already satisfied: threadpoolctl>=2.0.0 in c:\\users\\plextek\\anaconda3\\lib\\site-packages (from scikit-learn>=1.0.1->darts) (2.2.0)\n",
      "Requirement already satisfied: slicer==0.0.7 in c:\\users\\plextek\\appdata\\roaming\\python\\python311\\site-packages (from shap>=0.40.0->darts) (0.0.7)\n",
      "Requirement already satisfied: cloudpickle in c:\\users\\plextek\\anaconda3\\lib\\site-packages (from shap>=0.40.0->darts) (2.2.1)\n",
      "Requirement already satisfied: coreforecast>=0.0.7 in c:\\users\\plextek\\appdata\\roaming\\python\\python311\\site-packages (from statsforecast>=1.4->darts) (0.0.8)\n",
      "Requirement already satisfied: fugue>=0.8.1 in c:\\users\\plextek\\appdata\\roaming\\python\\python311\\site-packages (from statsforecast>=1.4->darts) (0.8.7)\n",
      "Requirement already satisfied: utilsforecast>=0.0.24 in c:\\users\\plextek\\appdata\\roaming\\python\\python311\\site-packages (from statsforecast>=1.4->darts) (0.1.5)\n",
      "Requirement already satisfied: patsy>=0.5.6 in c:\\users\\plextek\\appdata\\roaming\\python\\python311\\site-packages (from statsmodels>=0.14.0->darts) (0.5.6)\n",
      "Requirement already satisfied: protobuf>=3.20 in c:\\users\\plextek\\appdata\\roaming\\python\\python311\\site-packages (from tensorboardX>=2.1->darts) (4.23.4)\n",
      "Requirement already satisfied: filelock in c:\\users\\plextek\\anaconda3\\lib\\site-packages (from torch>=1.8.0->darts) (3.13.1)\n",
      "Requirement already satisfied: sympy in c:\\users\\plextek\\anaconda3\\lib\\site-packages (from torch>=1.8.0->darts) (1.12)\n",
      "Requirement already satisfied: networkx in c:\\users\\plextek\\anaconda3\\lib\\site-packages (from torch>=1.8.0->darts) (3.1)\n",
      "Requirement already satisfied: jinja2 in c:\\users\\plextek\\anaconda3\\lib\\site-packages (from torch>=1.8.0->darts) (3.1.3)\n",
      "Requirement already satisfied: colorama in c:\\users\\plextek\\anaconda3\\lib\\site-packages (from tqdm>=4.60.0->darts) (0.4.6)\n",
      "Requirement already satisfied: aiohttp!=4.0.0a0,!=4.0.0a1 in c:\\users\\plextek\\anaconda3\\lib\\site-packages (from fsspec[http]>=2022.5.0->pytorch-lightning>=1.5.0->darts) (3.9.3)\n",
      "Requirement already satisfied: triad>=0.9.3 in c:\\users\\plextek\\appdata\\roaming\\python\\python311\\site-packages (from fugue>=0.8.1->statsforecast>=1.4->darts) (0.9.6)\n",
      "Requirement already satisfied: adagio>=0.2.4 in c:\\users\\plextek\\appdata\\roaming\\python\\python311\\site-packages (from fugue>=0.8.1->statsforecast>=1.4->darts) (0.2.4)\n",
      "Requirement already satisfied: qpd>=0.4.4 in c:\\users\\plextek\\appdata\\roaming\\python\\python311\\site-packages (from fugue>=0.8.1->statsforecast>=1.4->darts) (0.4.4)\n",
      "Requirement already satisfied: fugue-sql-antlr>=0.1.6 in c:\\users\\plextek\\appdata\\roaming\\python\\python311\\site-packages (from fugue>=0.8.1->statsforecast>=1.4->darts) (0.2.0)\n",
      "Requirement already satisfied: sqlglot in c:\\users\\plextek\\appdata\\roaming\\python\\python311\\site-packages (from fugue>=0.8.1->statsforecast>=1.4->darts) (23.11.2)\n",
      "Requirement already satisfied: llvmlite<0.43,>=0.42.0dev0 in c:\\users\\plextek\\anaconda3\\lib\\site-packages (from numba>=0.51->pyod>=0.9.5->darts) (0.42.0)\n",
      "Requirement already satisfied: MarkupSafe>=2.0 in c:\\users\\plextek\\anaconda3\\lib\\site-packages (from jinja2->torch>=1.8.0->darts) (2.1.3)\n",
      "Requirement already satisfied: mpmath>=0.19 in c:\\users\\plextek\\anaconda3\\lib\\site-packages (from sympy->torch>=1.8.0->darts) (1.3.0)\n",
      "Requirement already satisfied: aiosignal>=1.1.2 in c:\\users\\plextek\\anaconda3\\lib\\site-packages (from aiohttp!=4.0.0a0,!=4.0.0a1->fsspec[http]>=2022.5.0->pytorch-lightning>=1.5.0->darts) (1.2.0)\n",
      "Requirement already satisfied: attrs>=17.3.0 in c:\\users\\plextek\\anaconda3\\lib\\site-packages (from aiohttp!=4.0.0a0,!=4.0.0a1->fsspec[http]>=2022.5.0->pytorch-lightning>=1.5.0->darts) (23.1.0)\n",
      "Requirement already satisfied: frozenlist>=1.1.1 in c:\\users\\plextek\\anaconda3\\lib\\site-packages (from aiohttp!=4.0.0a0,!=4.0.0a1->fsspec[http]>=2022.5.0->pytorch-lightning>=1.5.0->darts) (1.4.0)\n",
      "Requirement already satisfied: multidict<7.0,>=4.5 in c:\\users\\plextek\\anaconda3\\lib\\site-packages (from aiohttp!=4.0.0a0,!=4.0.0a1->fsspec[http]>=2022.5.0->pytorch-lightning>=1.5.0->darts) (6.0.4)\n",
      "Requirement already satisfied: yarl<2.0,>=1.0 in c:\\users\\plextek\\anaconda3\\lib\\site-packages (from aiohttp!=4.0.0a0,!=4.0.0a1->fsspec[http]>=2022.5.0->pytorch-lightning>=1.5.0->darts) (1.9.3)\n",
      "Requirement already satisfied: antlr4-python3-runtime<4.12 in c:\\users\\plextek\\appdata\\roaming\\python\\python311\\site-packages (from fugue-sql-antlr>=0.1.6->fugue>=0.8.1->statsforecast>=1.4->darts) (4.11.1)\n",
      "Requirement already satisfied: pyarrow>=6.0.1 in c:\\users\\plextek\\anaconda3\\lib\\site-packages (from triad>=0.9.3->fugue>=0.8.1->statsforecast>=1.4->darts) (14.0.2)\n",
      "Requirement already satisfied: fs in c:\\users\\plextek\\appdata\\roaming\\python\\python311\\site-packages (from triad>=0.9.3->fugue>=0.8.1->statsforecast>=1.4->darts) (2.4.16)\n",
      "Requirement already satisfied: appdirs~=1.4.3 in c:\\users\\plextek\\anaconda3\\lib\\site-packages (from fs->triad>=0.9.3->fugue>=0.8.1->statsforecast>=1.4->darts) (1.4.4)\n",
      "Note: you may need to restart the kernel to use updated packages.\n"
     ]
    }
   ],
   "source": [
    "pip install darts"
   ]
  },
  {
   "cell_type": "code",
   "execution_count": 2,
   "metadata": {
    "id": "DBr0HP1LLPh1"
   },
   "outputs": [],
   "source": [
    "import pandas as pd\n",
    "import numpy as np\n",
    "import matplotlib.pyplot as plt\n",
    "\n",
    "from darts import TimeSeries"
   ]
  },
  {
   "cell_type": "code",
   "execution_count": 3,
   "metadata": {
    "id": "lua_o1G7LrcV"
   },
   "outputs": [],
   "source": [
    "df = pd.read_csv('output2.csv',usecols=[1])[:60000].clip(0)"
   ]
  },
  {
   "cell_type": "code",
   "execution_count": 4,
   "metadata": {
    "colab": {
     "base_uri": "https://localhost:8080/",
     "height": 424
    },
    "id": "IhVgtd94OxA-",
    "outputId": "be60dd16-d23c-4814-ec6d-5a62c5aafc3a"
   },
   "outputs": [
    {
     "data": {
      "text/html": [
       "<div>\n",
       "<style scoped>\n",
       "    .dataframe tbody tr th:only-of-type {\n",
       "        vertical-align: middle;\n",
       "    }\n",
       "\n",
       "    .dataframe tbody tr th {\n",
       "        vertical-align: top;\n",
       "    }\n",
       "\n",
       "    .dataframe thead th {\n",
       "        text-align: right;\n",
       "    }\n",
       "</style>\n",
       "<table border=\"1\" class=\"dataframe\">\n",
       "  <thead>\n",
       "    <tr style=\"text-align: right;\">\n",
       "      <th></th>\n",
       "      <th>Plasma_current</th>\n",
       "    </tr>\n",
       "  </thead>\n",
       "  <tbody>\n",
       "    <tr>\n",
       "      <th>0</th>\n",
       "      <td>0.0000</td>\n",
       "    </tr>\n",
       "    <tr>\n",
       "      <th>1</th>\n",
       "      <td>1.3591</td>\n",
       "    </tr>\n",
       "    <tr>\n",
       "      <th>2</th>\n",
       "      <td>5.7585</td>\n",
       "    </tr>\n",
       "    <tr>\n",
       "      <th>3</th>\n",
       "      <td>11.6940</td>\n",
       "    </tr>\n",
       "    <tr>\n",
       "      <th>4</th>\n",
       "      <td>17.8730</td>\n",
       "    </tr>\n",
       "    <tr>\n",
       "      <th>...</th>\n",
       "      <td>...</td>\n",
       "    </tr>\n",
       "    <tr>\n",
       "      <th>59995</th>\n",
       "      <td>0.0000</td>\n",
       "    </tr>\n",
       "    <tr>\n",
       "      <th>59996</th>\n",
       "      <td>0.0000</td>\n",
       "    </tr>\n",
       "    <tr>\n",
       "      <th>59997</th>\n",
       "      <td>0.0000</td>\n",
       "    </tr>\n",
       "    <tr>\n",
       "      <th>59998</th>\n",
       "      <td>0.0000</td>\n",
       "    </tr>\n",
       "    <tr>\n",
       "      <th>59999</th>\n",
       "      <td>0.0000</td>\n",
       "    </tr>\n",
       "  </tbody>\n",
       "</table>\n",
       "<p>60000 rows × 1 columns</p>\n",
       "</div>"
      ],
      "text/plain": [
       "       Plasma_current\n",
       "0              0.0000\n",
       "1              1.3591\n",
       "2              5.7585\n",
       "3             11.6940\n",
       "4             17.8730\n",
       "...               ...\n",
       "59995          0.0000\n",
       "59996          0.0000\n",
       "59997          0.0000\n",
       "59998          0.0000\n",
       "59999          0.0000\n",
       "\n",
       "[60000 rows x 1 columns]"
      ]
     },
     "execution_count": 4,
     "metadata": {},
     "output_type": "execute_result"
    }
   ],
   "source": [
    "df"
   ]
  },
  {
   "cell_type": "code",
   "execution_count": 5,
   "metadata": {
    "id": "B-m-4Y1cMRH2"
   },
   "outputs": [],
   "source": [
    "dates = pd.date_range(start='1/1/1900',periods=len(df), freq='D')"
   ]
  },
  {
   "cell_type": "code",
   "execution_count": 6,
   "metadata": {
    "id": "5co_6BJ0NRud"
   },
   "outputs": [],
   "source": [
    "df.index = pd.to_datetime(dates, format='%d.%m.%Y %H:%M:%S')"
   ]
  },
  {
   "cell_type": "code",
   "execution_count": null,
   "metadata": {
    "id": "mGGo0OlnBPBt"
   },
   "outputs": [],
   "source": []
  },
  {
   "cell_type": "code",
   "execution_count": 7,
   "metadata": {
    "colab": {
     "base_uri": "https://localhost:8080/",
     "height": 206
    },
    "id": "k6eK5mUfNXNd",
    "outputId": "298e997b-8a0c-4388-af4b-fd8d3333d31c"
   },
   "outputs": [
    {
     "data": {
      "text/html": [
       "<div>\n",
       "<style scoped>\n",
       "    .dataframe tbody tr th:only-of-type {\n",
       "        vertical-align: middle;\n",
       "    }\n",
       "\n",
       "    .dataframe tbody tr th {\n",
       "        vertical-align: top;\n",
       "    }\n",
       "\n",
       "    .dataframe thead th {\n",
       "        text-align: right;\n",
       "    }\n",
       "</style>\n",
       "<table border=\"1\" class=\"dataframe\">\n",
       "  <thead>\n",
       "    <tr style=\"text-align: right;\">\n",
       "      <th></th>\n",
       "      <th>Plasma_current</th>\n",
       "    </tr>\n",
       "  </thead>\n",
       "  <tbody>\n",
       "    <tr>\n",
       "      <th>1901-01-31</th>\n",
       "      <td>0.0</td>\n",
       "    </tr>\n",
       "    <tr>\n",
       "      <th>1901-02-01</th>\n",
       "      <td>0.0</td>\n",
       "    </tr>\n",
       "    <tr>\n",
       "      <th>1901-02-02</th>\n",
       "      <td>0.0</td>\n",
       "    </tr>\n",
       "    <tr>\n",
       "      <th>1901-02-03</th>\n",
       "      <td>0.0</td>\n",
       "    </tr>\n",
       "    <tr>\n",
       "      <th>1901-02-04</th>\n",
       "      <td>0.0</td>\n",
       "    </tr>\n",
       "  </tbody>\n",
       "</table>\n",
       "</div>"
      ],
      "text/plain": [
       "            Plasma_current\n",
       "1901-01-31             0.0\n",
       "1901-02-01             0.0\n",
       "1901-02-02             0.0\n",
       "1901-02-03             0.0\n",
       "1901-02-04             0.0"
      ]
     },
     "execution_count": 7,
     "metadata": {},
     "output_type": "execute_result"
    }
   ],
   "source": [
    "df[:400].tail()"
   ]
  },
  {
   "cell_type": "code",
   "execution_count": 8,
   "metadata": {
    "colab": {
     "base_uri": "https://localhost:8080/",
     "height": 206
    },
    "id": "n0rTCmv5Ndo9",
    "outputId": "2e3b35d7-22a7-464d-fb6d-94ebdb511d78"
   },
   "outputs": [
    {
     "data": {
      "text/html": [
       "<div>\n",
       "<style scoped>\n",
       "    .dataframe tbody tr th:only-of-type {\n",
       "        vertical-align: middle;\n",
       "    }\n",
       "\n",
       "    .dataframe tbody tr th {\n",
       "        vertical-align: top;\n",
       "    }\n",
       "\n",
       "    .dataframe thead th {\n",
       "        text-align: right;\n",
       "    }\n",
       "</style>\n",
       "<table border=\"1\" class=\"dataframe\">\n",
       "  <thead>\n",
       "    <tr style=\"text-align: right;\">\n",
       "      <th></th>\n",
       "      <th>Plasma_current</th>\n",
       "    </tr>\n",
       "  </thead>\n",
       "  <tbody>\n",
       "    <tr>\n",
       "      <th>2064-04-05</th>\n",
       "      <td>0.0</td>\n",
       "    </tr>\n",
       "    <tr>\n",
       "      <th>2064-04-06</th>\n",
       "      <td>0.0</td>\n",
       "    </tr>\n",
       "    <tr>\n",
       "      <th>2064-04-07</th>\n",
       "      <td>0.0</td>\n",
       "    </tr>\n",
       "    <tr>\n",
       "      <th>2064-04-08</th>\n",
       "      <td>0.0</td>\n",
       "    </tr>\n",
       "    <tr>\n",
       "      <th>2064-04-09</th>\n",
       "      <td>0.0</td>\n",
       "    </tr>\n",
       "  </tbody>\n",
       "</table>\n",
       "</div>"
      ],
      "text/plain": [
       "            Plasma_current\n",
       "2064-04-05             0.0\n",
       "2064-04-06             0.0\n",
       "2064-04-07             0.0\n",
       "2064-04-08             0.0\n",
       "2064-04-09             0.0"
      ]
     },
     "execution_count": 8,
     "metadata": {},
     "output_type": "execute_result"
    }
   ],
   "source": [
    "df.tail()"
   ]
  },
  {
   "cell_type": "code",
   "execution_count": 9,
   "metadata": {
    "id": "kFt3F-c6L7qk"
   },
   "outputs": [],
   "source": [
    "series= TimeSeries.from_dataframe(df)"
   ]
  },
  {
   "cell_type": "code",
   "execution_count": 10,
   "metadata": {
    "colab": {
     "base_uri": "https://localhost:8080/",
     "height": 479
    },
    "id": "0AgAxc9tNRJO",
    "outputId": "6a0c9037-ee6f-4da6-bb12-a46a1bee2e9e"
   },
   "outputs": [
    {
     "data": {
      "text/plain": [
       "<Axes: xlabel='time'>"
      ]
     },
     "execution_count": 10,
     "metadata": {},
     "output_type": "execute_result"
    },
    {
     "data": {
      "image/png": "[encoded data removed]",
      "text/plain": [
       "<Figure size 640x480 with 1 Axes>"
      ]
     },
     "metadata": {},
     "output_type": "display_data"
    }
   ],
   "source": [
    "series.plot()"
   ]
  },
  {
   "cell_type": "code",
   "execution_count": 11,
   "metadata": {
    "id": "P2uMMKo5QbdF"
   },
   "outputs": [],
   "source": [
    "from darts.dataprocessing.transformers  import Scaler\n",
    "scaler = Scaler()\n",
    "series_scaled = scaler.fit_transform(series)"
   ]
  },
  {
   "cell_type": "code",
   "execution_count": 12,
   "metadata": {
    "colab": {
     "base_uri": "https://localhost:8080/",
     "height": 479
    },
    "id": "6dkBclcFQ_1m",
    "outputId": "f842bdca-b51c-4ae7-e268-b606de5f3b2c"
   },
   "outputs": [
    {
     "data": {
      "text/plain": [
       "<Axes: xlabel='time'>"
      ]
     },
     "execution_count": 12,
     "metadata": {},
     "output_type": "execute_result"
    },
    {
     "data": {
      "image/png": "[encoded data removed]",
      "text/plain": [
       "<Figure size 640x480 with 1 Axes>"
      ]
     },
     "metadata": {},
     "output_type": "display_data"
    }
   ],
   "source": [
    "series_scaled.plot()"
   ]
  },
  {
   "cell_type": "code",
   "execution_count": 13,
   "metadata": {
    "colab": {
     "base_uri": "https://localhost:8080/",
     "height": 479
    },
    "id": "24_uk09mPd9V",
    "outputId": "478d7d8d-afa4-4173-8ef7-a7616603fd20"
   },
   "outputs": [
    {
     "data": {
      "text/plain": [
       "<Axes: xlabel='time'>"
      ]
     },
     "execution_count": 13,
     "metadata": {},
     "output_type": "execute_result"
    },
    {
     "data": {
      "image/png": "[encoded data removed]",
      "text/plain": [
       "<Figure size 640x480 with 1 Axes>"
      ]
     },
     "metadata": {},
     "output_type": "display_data"
    }
   ],
   "source": [
    "train, test = series_scaled.split_after(0.8)\n",
    "train.plot()\n",
    "test.plot()"
   ]
  },
  {
   "cell_type": "code",
   "execution_count": 14,
   "metadata": {
    "colab": {
     "base_uri": "https://localhost:8080/"
    },
    "id": "GAEHOITDZjRz",
    "outputId": "ed940baa-fd13-4c94-d50e-c8ad33a3638b"
   },
   "outputs": [
    {
     "data": {
      "text/plain": [
       "12000"
      ]
     },
     "execution_count": 14,
     "metadata": {},
     "output_type": "execute_result"
    }
   ],
   "source": [
    "len(test)"
   ]
  },
  {
   "cell_type": "code",
   "execution_count": 15,
   "metadata": {
    "id": "5-WTpvxdP1QL"
   },
   "outputs": [],
   "source": [
    "from darts.models import RNNModel , TCNModel,  TransformerModel, NBEATSModel, BlockRNNModel, ExponentialSmoothing, LinearRegressionModel\n",
    "from darts.metrics import mse, mape"
   ]
  },
  {
   "cell_type": "code",
   "execution_count": 16,
   "metadata": {
    "id": "RIn8o97Bcxxg"
   },
   "outputs": [],
   "source": [
    "model = NBEATSModel(\n",
    "    input_chunk_length=10,\n",
    "    output_chunk_length=20,\n",
    "    n_epochs=10,\n",
    "    activation='LeakyReLU'\n",
    ")"
   ]
  },
  {
   "cell_type": "code",
   "execution_count": 17,
   "metadata": {
    "colab": {
     "base_uri": "https://localhost:8080/",
     "height": 379,
     "referenced_widgets": [
      "c27a6d288b3945deb349f306020ccee9",
      "69f9f7c5536d4e9eb121ae874f1d898a",
      "6f3e56e351114a1c94cb9110354089a0",
      "07688df1ce584ba6a8d29a127926740a",
      "0f6100c5dbf746f59600f72bae41ab31",
      "017d35ae4c1a4aa081d8fc5a17c48eaa",
      "3016d73a3de3448e977043e38981c697",
      "c169a8c16e344762a174a75a4ed74647",
      "be8c2845c4724badac75230e4c698551",
      "d2e09624c47f489ba64e2386be5ea8b8",
      "bfa5355046ca401d89384e30d12acd9c"
     ]
    },
    "id": "Hd_6rhdnegxZ",
    "outputId": "d5f75c4a-65c0-4e2c-ffc1-6532db85e415"
   },
   "outputs": [
    {
     "name": "stderr",
     "output_type": "stream",
     "text": [
      "GPU available: False, used: False\n",
      "TPU available: False, using: 0 TPU cores\n",
      "IPU available: False, using: 0 IPUs\n",
      "HPU available: False, using: 0 HPUs\n",
      "\n",
      "  | Name          | Type             | Params\n",
      "---------------------------------------------------\n",
      "0 | criterion     | MSELoss          | 0     \n",
      "1 | train_metrics | MetricCollection | 0     \n",
      "2 | val_metrics   | MetricCollection | 0     \n",
      "3 | stacks        | ModuleList       | 6.1 M \n",
      "---------------------------------------------------\n",
      "6.1 M     Trainable params\n",
      "1.3 K     Non-trainable params\n",
      "6.1 M     Total params\n",
      "24.353    Total estimated model params size (MB)\n"
     ]
    },
    {
     "data": {
      "application/vnd.jupyter.widget-view+json": {
       "model_id": "36cd9a487c8d4d76b1e7a9edb84af711",
       "version_major": 2,
       "version_minor": 0
      },
      "text/plain": [
       "Training: |                                                                                      | 0/? [00:00<…"
      ]
     },
     "metadata": {},
     "output_type": "display_data"
    },
    {
     "name": "stderr",
     "output_type": "stream",
     "text": [
      "`Trainer.fit` stopped: `max_epochs=10` reached.\n"
     ]
    },
    {
     "data": {
      "text/plain": [
       "NBEATSModel(output_chunk_shift=0, generic_architecture=True, num_stacks=30, num_blocks=1, num_layers=4, layer_widths=256, expansion_coefficient_dim=5, trend_polynomial_degree=2, dropout=0.0, activation=LeakyReLU, input_chunk_length=10, output_chunk_length=20, n_epochs=10)"
      ]
     },
     "execution_count": 17,
     "metadata": {},
     "output_type": "execute_result"
    }
   ],
   "source": [
    "model.fit(train)"
   ]
  },
  {
   "cell_type": "code",
   "execution_count": 41,
   "metadata": {
    "colab": {
     "base_uri": "https://localhost:8080/",
     "height": 590,
     "referenced_widgets": [
      "c001bd5d3a2647e29ba3be313194d293",
      "85f07a885c4c409881dbad3388132412",
      "e901672e18bf43f0b1dffeff9cc58b26",
      "24cdddbe71274799a46e2f41af82a3c4",
      "355ed2ab038741999f7918f5e6f46d19",
      "3f919b2f59fc48ea8740dd1d70e14179",
      "2493ea0fd2d942318639c176896fbc3e",
      "a63c9047422547b9b0298b271ecefa75",
      "58ec95ad07ee45ada28d86984f684091",
      "e816de4a1aea4092b02f672e8caf18d7",
      "361270c22181487796dbdb450e9eafda"
     ]
    },
    "id": "9yf1HfZzeozB",
    "outputId": "af05feb2-ff06-435d-f9d1-1611615aef90"
   },
   "outputs": [
    {
     "name": "stderr",
     "output_type": "stream",
     "text": [
      "GPU available: False, used: False\n",
      "TPU available: False, using: 0 TPU cores\n",
      "IPU available: False, using: 0 IPUs\n",
      "HPU available: False, using: 0 HPUs\n"
     ]
    },
    {
     "data": {
      "application/vnd.jupyter.widget-view+json": {
       "model_id": "1f53fcbe2d2e4fdeb8959d212b3899b2",
       "version_major": 2,
       "version_minor": 0
      },
      "text/plain": [
       "Predicting: |                                                                                    | 0/? [00:00<…"
      ]
     },
     "metadata": {},
     "output_type": "display_data"
    },
    {
     "data": {
      "text/plain": [
       "<Axes: xlabel='time'>"
      ]
     },
     "execution_count": 41,
     "metadata": {},
     "output_type": "execute_result"
    },
    {
     "data": {
      "image/png": "[encoded data removed]",
      "text/plain": [
       "<Figure size 640x480 with 1 Axes>"
      ]
     },
     "metadata": {},
     "output_type": "display_data"
    }
   ],
   "source": [
    "pred = model.predict(n=20,series=test[140:150])\n",
    "test[0:400].plot()\n",
    "pred.plot()"
   ]
  },
  {
   "cell_type": "code",
   "execution_count": 19,
   "metadata": {},
   "outputs": [
    {
     "name": "stderr",
     "output_type": "stream",
     "text": [
      "GPU available: False, used: False\n",
      "TPU available: False, using: 0 TPU cores\n",
      "IPU available: False, using: 0 IPUs\n",
      "HPU available: False, using: 0 HPUs\n"
     ]
    },
    {
     "data": {
      "application/vnd.jupyter.widget-view+json": {
       "model_id": "a2c7509ca20e41f0a2256ffa234f74c4",
       "version_major": 2,
       "version_minor": 0
      },
      "text/plain": [
       "Predicting: |                                                                                    | 0/? [00:00<…"
      ]
     },
     "metadata": {},
     "output_type": "display_data"
    },
    {
     "data": {
      "text/plain": [
       "<Axes: xlabel='time'>"
      ]
     },
     "execution_count": 19,
     "metadata": {},
     "output_type": "execute_result"
    },
    {
     "data": {
      "image/png": "[encoded data removed]",
      "text/plain": [
       "<Figure size 640x480 with 1 Axes>"
      ]
     },
     "metadata": {},
     "output_type": "display_data"
    }
   ],
   "source": [
    "pred = model.predict(n=20,series=series_scaled[840:850])\n",
    "series_scaled[800:1200].plot()\n",
    "pred.plot()"
   ]
  },
  {
   "cell_type": "code",
   "execution_count": 28,
   "metadata": {
    "id": "jhQcCSA0gUap"
   },
   "outputs": [
    {
     "name": "stderr",
     "output_type": "stream",
     "text": [
      "GPU available: False, used: False\n",
      "TPU available: False, using: 0 TPU cores\n",
      "IPU available: False, using: 0 IPUs\n",
      "HPU available: False, using: 0 HPUs\n"
     ]
    },
    {
     "data": {
      "application/vnd.jupyter.widget-view+json": {
       "model_id": "bb24257ccd4043f4b1f79bfde8090821",
       "version_major": 2,
       "version_minor": 0
      },
      "text/plain": [
       "Predicting: |                                                                                    | 0/? [00:00<…"
      ]
     },
     "metadata": {},
     "output_type": "display_data"
    },
    {
     "data": {
      "text/plain": [
       "<Axes: xlabel='time'>"
      ]
     },
     "execution_count": 28,
     "metadata": {},
     "output_type": "execute_result"
    },
    {
     "data": {
      "image/png": "[encoded data removed]",
      "text/plain": [
       "<Figure size 640x480 with 1 Axes>"
      ]
     },
     "metadata": {},
     "output_type": "display_data"
    }
   ],
   "source": [
    "pred = model.predict(n=len(test),series=train)\n",
    "test.plot()\n",
    "pred.plot()"
   ]
  },
  {
   "cell_type": "code",
   "execution_count": null,
   "metadata": {
    "id": "PoVwvVmifQHp"
   },
   "outputs": [],
   "source": []
  }
 ],
 "metadata": {
  "accelerator": "GPU",
  "colab": {
   "gpuType": "T4",
   "provenance": []
  },
  "kernelspec": {
   "display_name": "Python 3 (ipykernel)",
   "language": "python",
   "name": "python3"
  },
  "language_info": {
   "codemirror_mode": {
    "name": "ipython",
    "version": 3
   },
   "file_extension": ".py",
   "mimetype": "text/x-python",
   "name": "python",
   "nbconvert_exporter": "python",
   "pygments_lexer": "ipython3",
   "version": "3.11.7"
  },
  "widgets": {
   "application/vnd.jupyter.widget-state+json": {
    "017d35ae4c1a4aa081d8fc5a17c48eaa": {
     "model_module": "@jupyter-widgets/base",
     "model_module_version": "1.2.0",
     "model_name": "LayoutModel",
     "state": {
      "_model_module": "@jupyter-widgets/base",
      "_model_module_version": "1.2.0",
      "_model_name": "LayoutModel",
      "_view_count": null,
      "_view_module": "@jupyter-widgets/base",
      "_view_module_version": "1.2.0",
      "_view_name": "LayoutView",
      "align_content": null,
      "align_items": null,
      "align_self": null,
      "border": null,
      "bottom": null,
      "display": null,
      "flex": null,
      "flex_flow": null,
      "grid_area": null,
      "grid_auto_columns": null,
      "grid_auto_flow": null,
      "grid_auto_rows": null,
      "grid_column": null,
      "grid_gap": null,
      "grid_row": null,
      "grid_template_areas": null,
      "grid_template_columns": null,
      "grid_template_rows": null,
      "height": null,
      "justify_content": null,
      "justify_items": null,
      "left": null,
      "margin": null,
      "max_height": null,
      "max_width": null,
      "min_height": null,
      "min_width": null,
      "object_fit": null,
      "object_position": null,
      "order": null,
      "overflow": null,
      "overflow_x": null,
      "overflow_y": null,
      "padding": null,
      "right": null,
      "top": null,
      "visibility": null,
      "width": null
     }
    },
    "07688df1ce584ba6a8d29a127926740a": {
     "model_module": "@jupyter-widgets/controls",
     "model_module_version": "1.5.0",
     "model_name": "HTMLModel",
     "state": {
      "_dom_classes": [],
      "_model_module": "@jupyter-widgets/controls",
      "_model_module_version": "1.5.0",
      "_model_name": "HTMLModel",
      "_view_count": null,
      "_view_module": "@jupyter-widgets/controls",
      "_view_module_version": "1.5.0",
      "_view_name": "HTMLView",
      "description": "",
      "description_tooltip": null,
      "layout": "IPY_MODEL_d2e09624c47f489ba64e2386be5ea8b8",
      "placeholder": "​",
      "style": "IPY_MODEL_bfa5355046ca401d89384e30d12acd9c",
      "value": " 200/200 [00:48&lt;00:00,  4.14it/s, train_loss=0.00139]"
     }
    },
    "0f6100c5dbf746f59600f72bae41ab31": {
     "model_module": "@jupyter-widgets/base",
     "model_module_version": "1.2.0",
     "model_name": "LayoutModel",
     "state": {
      "_model_module": "@jupyter-widgets/base",
      "_model_module_version": "1.2.0",
      "_model_name": "LayoutModel",
      "_view_count": null,
      "_view_module": "@jupyter-widgets/base",
      "_view_module_version": "1.2.0",
      "_view_name": "LayoutView",
      "align_content": null,
      "align_items": null,
      "align_self": null,
      "border": null,
      "bottom": null,
      "display": "inline-flex",
      "flex": null,
      "flex_flow": "row wrap",
      "grid_area": null,
      "grid_auto_columns": null,
      "grid_auto_flow": null,
      "grid_auto_rows": null,
      "grid_column": null,
      "grid_gap": null,
      "grid_row": null,
      "grid_template_areas": null,
      "grid_template_columns": null,
      "grid_template_rows": null,
      "height": null,
      "justify_content": null,
      "justify_items": null,
      "left": null,
      "margin": null,
      "max_height": null,
      "max_width": null,
      "min_height": null,
      "min_width": null,
      "object_fit": null,
      "object_position": null,
      "order": null,
      "overflow": null,
      "overflow_x": null,
      "overflow_y": null,
      "padding": null,
      "right": null,
      "top": null,
      "visibility": null,
      "width": "100%"
     }
    },
    "2493ea0fd2d942318639c176896fbc3e": {
     "model_module": "@jupyter-widgets/controls",
     "model_module_version": "1.5.0",
     "model_name": "DescriptionStyleModel",
     "state": {
      "_model_module": "@jupyter-widgets/controls",
      "_model_module_version": "1.5.0",
      "_model_name": "DescriptionStyleModel",
      "_view_count": null,
      "_view_module": "@jupyter-widgets/base",
      "_view_module_version": "1.2.0",
      "_view_name": "StyleView",
      "description_width": ""
     }
    },
    "24cdddbe71274799a46e2f41af82a3c4": {
     "model_module": "@jupyter-widgets/controls",
     "model_module_version": "1.5.0",
     "model_name": "HTMLModel",
     "state": {
      "_dom_classes": [],
      "_model_module": "@jupyter-widgets/controls",
      "_model_module_version": "1.5.0",
      "_model_name": "HTMLModel",
      "_view_count": null,
      "_view_module": "@jupyter-widgets/controls",
      "_view_module_version": "1.5.0",
      "_view_name": "HTMLView",
      "description": "",
      "description_tooltip": null,
      "layout": "IPY_MODEL_e816de4a1aea4092b02f672e8caf18d7",
      "placeholder": "​",
      "style": "IPY_MODEL_361270c22181487796dbdb450e9eafda",
      "value": " 1/1 [00:01&lt;00:00,  0.91it/s]"
     }
    },
    "3016d73a3de3448e977043e38981c697": {
     "model_module": "@jupyter-widgets/controls",
     "model_module_version": "1.5.0",
     "model_name": "DescriptionStyleModel",
     "state": {
      "_model_module": "@jupyter-widgets/controls",
      "_model_module_version": "1.5.0",
      "_model_name": "DescriptionStyleModel",
      "_view_count": null,
      "_view_module": "@jupyter-widgets/base",
      "_view_module_version": "1.2.0",
      "_view_name": "StyleView",
      "description_width": ""
     }
    },
    "355ed2ab038741999f7918f5e6f46d19": {
     "model_module": "@jupyter-widgets/base",
     "model_module_version": "1.2.0",
     "model_name": "LayoutModel",
     "state": {
      "_model_module": "@jupyter-widgets/base",
      "_model_module_version": "1.2.0",
      "_model_name": "LayoutModel",
      "_view_count": null,
      "_view_module": "@jupyter-widgets/base",
      "_view_module_version": "1.2.0",
      "_view_name": "LayoutView",
      "align_content": null,
      "align_items": null,
      "align_self": null,
      "border": null,
      "bottom": null,
      "display": "inline-flex",
      "flex": null,
      "flex_flow": "row wrap",
      "grid_area": null,
      "grid_auto_columns": null,
      "grid_auto_flow": null,
      "grid_auto_rows": null,
      "grid_column": null,
      "grid_gap": null,
      "grid_row": null,
      "grid_template_areas": null,
      "grid_template_columns": null,
      "grid_template_rows": null,
      "height": null,
      "justify_content": null,
      "justify_items": null,
      "left": null,
      "margin": null,
      "max_height": null,
      "max_width": null,
      "min_height": null,
      "min_width": null,
      "object_fit": null,
      "object_position": null,
      "order": null,
      "overflow": null,
      "overflow_x": null,
      "overflow_y": null,
      "padding": null,
      "right": null,
      "top": null,
      "visibility": null,
      "width": "100%"
     }
    },
    "361270c22181487796dbdb450e9eafda": {
     "model_module": "@jupyter-widgets/controls",
     "model_module_version": "1.5.0",
     "model_name": "DescriptionStyleModel",
     "state": {
      "_model_module": "@jupyter-widgets/controls",
      "_model_module_version": "1.5.0",
      "_model_name": "DescriptionStyleModel",
      "_view_count": null,
      "_view_module": "@jupyter-widgets/base",
      "_view_module_version": "1.2.0",
      "_view_name": "StyleView",
      "description_width": ""
     }
    },
    "3f919b2f59fc48ea8740dd1d70e14179": {
     "model_module": "@jupyter-widgets/base",
     "model_module_version": "1.2.0",
     "model_name": "LayoutModel",
     "state": {
      "_model_module": "@jupyter-widgets/base",
      "_model_module_version": "1.2.0",
      "_model_name": "LayoutModel",
      "_view_count": null,
      "_view_module": "@jupyter-widgets/base",
      "_view_module_version": "1.2.0",
      "_view_name": "LayoutView",
      "align_content": null,
      "align_items": null,
      "align_self": null,
      "border": null,
      "bottom": null,
      "display": null,
      "flex": null,
      "flex_flow": null,
      "grid_area": null,
      "grid_auto_columns": null,
      "grid_auto_flow": null,
      "grid_auto_rows": null,
      "grid_column": null,
      "grid_gap": null,
      "grid_row": null,
      "grid_template_areas": null,
      "grid_template_columns": null,
      "grid_template_rows": null,
      "height": null,
      "justify_content": null,
      "justify_items": null,
      "left": null,
      "margin": null,
      "max_height": null,
      "max_width": null,
      "min_height": null,
      "min_width": null,
      "object_fit": null,
      "object_position": null,
      "order": null,
      "overflow": null,
      "overflow_x": null,
      "overflow_y": null,
      "padding": null,
      "right": null,
      "top": null,
      "visibility": null,
      "width": null
     }
    },
    "58ec95ad07ee45ada28d86984f684091": {
     "model_module": "@jupyter-widgets/controls",
     "model_module_version": "1.5.0",
     "model_name": "ProgressStyleModel",
     "state": {
      "_model_module": "@jupyter-widgets/controls",
      "_model_module_version": "1.5.0",
      "_model_name": "ProgressStyleModel",
      "_view_count": null,
      "_view_module": "@jupyter-widgets/base",
      "_view_module_version": "1.2.0",
      "_view_name": "StyleView",
      "bar_color": null,
      "description_width": ""
     }
    },
    "69f9f7c5536d4e9eb121ae874f1d898a": {
     "model_module": "@jupyter-widgets/controls",
     "model_module_version": "1.5.0",
     "model_name": "HTMLModel",
     "state": {
      "_dom_classes": [],
      "_model_module": "@jupyter-widgets/controls",
      "_model_module_version": "1.5.0",
      "_model_name": "HTMLModel",
      "_view_count": null,
      "_view_module": "@jupyter-widgets/controls",
      "_view_module_version": "1.5.0",
      "_view_name": "HTMLView",
      "description": "",
      "description_tooltip": null,
      "layout": "IPY_MODEL_017d35ae4c1a4aa081d8fc5a17c48eaa",
      "placeholder": "​",
      "style": "IPY_MODEL_3016d73a3de3448e977043e38981c697",
      "value": "Epoch 4: 100%"
     }
    },
    "6f3e56e351114a1c94cb9110354089a0": {
     "model_module": "@jupyter-widgets/controls",
     "model_module_version": "1.5.0",
     "model_name": "FloatProgressModel",
     "state": {
      "_dom_classes": [],
      "_model_module": "@jupyter-widgets/controls",
      "_model_module_version": "1.5.0",
      "_model_name": "FloatProgressModel",
      "_view_count": null,
      "_view_module": "@jupyter-widgets/controls",
      "_view_module_version": "1.5.0",
      "_view_name": "ProgressView",
      "bar_style": "success",
      "description": "",
      "description_tooltip": null,
      "layout": "IPY_MODEL_c169a8c16e344762a174a75a4ed74647",
      "max": 200,
      "min": 0,
      "orientation": "horizontal",
      "style": "IPY_MODEL_be8c2845c4724badac75230e4c698551",
      "value": 200
     }
    },
    "85f07a885c4c409881dbad3388132412": {
     "model_module": "@jupyter-widgets/controls",
     "model_module_version": "1.5.0",
     "model_name": "HTMLModel",
     "state": {
      "_dom_classes": [],
      "_model_module": "@jupyter-widgets/controls",
      "_model_module_version": "1.5.0",
      "_model_name": "HTMLModel",
      "_view_count": null,
      "_view_module": "@jupyter-widgets/controls",
      "_view_module_version": "1.5.0",
      "_view_name": "HTMLView",
      "description": "",
      "description_tooltip": null,
      "layout": "IPY_MODEL_3f919b2f59fc48ea8740dd1d70e14179",
      "placeholder": "​",
      "style": "IPY_MODEL_2493ea0fd2d942318639c176896fbc3e",
      "value": "Predicting DataLoader 0: 100%"
     }
    },
    "a63c9047422547b9b0298b271ecefa75": {
     "model_module": "@jupyter-widgets/base",
     "model_module_version": "1.2.0",
     "model_name": "LayoutModel",
     "state": {
      "_model_module": "@jupyter-widgets/base",
      "_model_module_version": "1.2.0",
      "_model_name": "LayoutModel",
      "_view_count": null,
      "_view_module": "@jupyter-widgets/base",
      "_view_module_version": "1.2.0",
      "_view_name": "LayoutView",
      "align_content": null,
      "align_items": null,
      "align_self": null,
      "border": null,
      "bottom": null,
      "display": null,
      "flex": "2",
      "flex_flow": null,
      "grid_area": null,
      "grid_auto_columns": null,
      "grid_auto_flow": null,
      "grid_auto_rows": null,
      "grid_column": null,
      "grid_gap": null,
      "grid_row": null,
      "grid_template_areas": null,
      "grid_template_columns": null,
      "grid_template_rows": null,
      "height": null,
      "justify_content": null,
      "justify_items": null,
      "left": null,
      "margin": null,
      "max_height": null,
      "max_width": null,
      "min_height": null,
      "min_width": null,
      "object_fit": null,
      "object_position": null,
      "order": null,
      "overflow": null,
      "overflow_x": null,
      "overflow_y": null,
      "padding": null,
      "right": null,
      "top": null,
      "visibility": null,
      "width": null
     }
    },
    "be8c2845c4724badac75230e4c698551": {
     "model_module": "@jupyter-widgets/controls",
     "model_module_version": "1.5.0",
     "model_name": "ProgressStyleModel",
     "state": {
      "_model_module": "@jupyter-widgets/controls",
      "_model_module_version": "1.5.0",
      "_model_name": "ProgressStyleModel",
      "_view_count": null,
      "_view_module": "@jupyter-widgets/base",
      "_view_module_version": "1.2.0",
      "_view_name": "StyleView",
      "bar_color": null,
      "description_width": ""
     }
    },
    "bfa5355046ca401d89384e30d12acd9c": {
     "model_module": "@jupyter-widgets/controls",
     "model_module_version": "1.5.0",
     "model_name": "DescriptionStyleModel",
     "state": {
      "_model_module": "@jupyter-widgets/controls",
      "_model_module_version": "1.5.0",
      "_model_name": "DescriptionStyleModel",
      "_view_count": null,
      "_view_module": "@jupyter-widgets/base",
      "_view_module_version": "1.2.0",
      "_view_name": "StyleView",
      "description_width": ""
     }
    },
    "c001bd5d3a2647e29ba3be313194d293": {
     "model_module": "@jupyter-widgets/controls",
     "model_module_version": "1.5.0",
     "model_name": "HBoxModel",
     "state": {
      "_dom_classes": [],
      "_model_module": "@jupyter-widgets/controls",
      "_model_module_version": "1.5.0",
      "_model_name": "HBoxModel",
      "_view_count": null,
      "_view_module": "@jupyter-widgets/controls",
      "_view_module_version": "1.5.0",
      "_view_name": "HBoxView",
      "box_style": "",
      "children": [
       "IPY_MODEL_85f07a885c4c409881dbad3388132412",
       "IPY_MODEL_e901672e18bf43f0b1dffeff9cc58b26",
       "IPY_MODEL_24cdddbe71274799a46e2f41af82a3c4"
      ],
      "layout": "IPY_MODEL_355ed2ab038741999f7918f5e6f46d19"
     }
    },
    "c169a8c16e344762a174a75a4ed74647": {
     "model_module": "@jupyter-widgets/base",
     "model_module_version": "1.2.0",
     "model_name": "LayoutModel",
     "state": {
      "_model_module": "@jupyter-widgets/base",
      "_model_module_version": "1.2.0",
      "_model_name": "LayoutModel",
      "_view_count": null,
      "_view_module": "@jupyter-widgets/base",
      "_view_module_version": "1.2.0",
      "_view_name": "LayoutView",
      "align_content": null,
      "align_items": null,
      "align_self": null,
      "border": null,
      "bottom": null,
      "display": null,
      "flex": "2",
      "flex_flow": null,
      "grid_area": null,
      "grid_auto_columns": null,
      "grid_auto_flow": null,
      "grid_auto_rows": null,
      "grid_column": null,
      "grid_gap": null,
      "grid_row": null,
      "grid_template_areas": null,
      "grid_template_columns": null,
      "grid_template_rows": null,
      "height": null,
      "justify_content": null,
      "justify_items": null,
      "left": null,
      "margin": null,
      "max_height": null,
      "max_width": null,
      "min_height": null,
      "min_width": null,
      "object_fit": null,
      "object_position": null,
      "order": null,
      "overflow": null,
      "overflow_x": null,
      "overflow_y": null,
      "padding": null,
      "right": null,
      "top": null,
      "visibility": null,
      "width": null
     }
    },
    "c27a6d288b3945deb349f306020ccee9": {
     "model_module": "@jupyter-widgets/controls",
     "model_module_version": "1.5.0",
     "model_name": "HBoxModel",
     "state": {
      "_dom_classes": [],
      "_model_module": "@jupyter-widgets/controls",
      "_model_module_version": "1.5.0",
      "_model_name": "HBoxModel",
      "_view_count": null,
      "_view_module": "@jupyter-widgets/controls",
      "_view_module_version": "1.5.0",
      "_view_name": "HBoxView",
      "box_style": "",
      "children": [
       "IPY_MODEL_69f9f7c5536d4e9eb121ae874f1d898a",
       "IPY_MODEL_6f3e56e351114a1c94cb9110354089a0",
       "IPY_MODEL_07688df1ce584ba6a8d29a127926740a"
      ],
      "layout": "IPY_MODEL_0f6100c5dbf746f59600f72bae41ab31"
     }
    },
    "d2e09624c47f489ba64e2386be5ea8b8": {
     "model_module": "@jupyter-widgets/base",
     "model_module_version": "1.2.0",
     "model_name": "LayoutModel",
     "state": {
      "_model_module": "@jupyter-widgets/base",
      "_model_module_version": "1.2.0",
      "_model_name": "LayoutModel",
      "_view_count": null,
      "_view_module": "@jupyter-widgets/base",
      "_view_module_version": "1.2.0",
      "_view_name": "LayoutView",
      "align_content": null,
      "align_items": null,
      "align_self": null,
      "border": null,
      "bottom": null,
      "display": null,
      "flex": null,
      "flex_flow": null,
      "grid_area": null,
      "grid_auto_columns": null,
      "grid_auto_flow": null,
      "grid_auto_rows": null,
      "grid_column": null,
      "grid_gap": null,
      "grid_row": null,
      "grid_template_areas": null,
      "grid_template_columns": null,
      "grid_template_rows": null,
      "height": null,
      "justify_content": null,
      "justify_items": null,
      "left": null,
      "margin": null,
      "max_height": null,
      "max_width": null,
      "min_height": null,
      "min_width": null,
      "object_fit": null,
      "object_position": null,
      "order": null,
      "overflow": null,
      "overflow_x": null,
      "overflow_y": null,
      "padding": null,
      "right": null,
      "top": null,
      "visibility": null,
      "width": null
     }
    },
    "e816de4a1aea4092b02f672e8caf18d7": {
     "model_module": "@jupyter-widgets/base",
     "model_module_version": "1.2.0",
     "model_name": "LayoutModel",
     "state": {
      "_model_module": "@jupyter-widgets/base",
      "_model_module_version": "1.2.0",
      "_model_name": "LayoutModel",
      "_view_count": null,
      "_view_module": "@jupyter-widgets/base",
      "_view_module_version": "1.2.0",
      "_view_name": "LayoutView",
      "align_content": null,
      "align_items": null,
      "align_self": null,
      "border": null,
      "bottom": null,
      "display": null,
      "flex": null,
      "flex_flow": null,
      "grid_area": null,
      "grid_auto_columns": null,
      "grid_auto_flow": null,
      "grid_auto_rows": null,
      "grid_column": null,
      "grid_gap": null,
      "grid_row": null,
      "grid_template_areas": null,
      "grid_template_columns": null,
      "grid_template_rows": null,
      "height": null,
      "justify_content": null,
      "justify_items": null,
      "left": null,
      "margin": null,
      "max_height": null,
      "max_width": null,
      "min_height": null,
      "min_width": null,
      "object_fit": null,
      "object_position": null,
      "order": null,
      "overflow": null,
      "overflow_x": null,
      "overflow_y": null,
      "padding": null,
      "right": null,
      "top": null,
      "visibility": null,
      "width": null
     }
    },
    "e901672e18bf43f0b1dffeff9cc58b26": {
     "model_module": "@jupyter-widgets/controls",
     "model_module_version": "1.5.0",
     "model_name": "FloatProgressModel",
     "state": {
      "_dom_classes": [],
      "_model_module": "@jupyter-widgets/controls",
      "_model_module_version": "1.5.0",
      "_model_name": "FloatProgressModel",
      "_view_count": null,
      "_view_module": "@jupyter-widgets/controls",
      "_view_module_version": "1.5.0",
      "_view_name": "ProgressView",
      "bar_style": "success",
      "description": "",
      "description_tooltip": null,
      "layout": "IPY_MODEL_a63c9047422547b9b0298b271ecefa75",
      "max": 1,
      "min": 0,
      "orientation": "horizontal",
      "style": "IPY_MODEL_58ec95ad07ee45ada28d86984f684091",
      "value": 1
     }
    }
   }
  }
 },
 "nbformat": 4,
 "nbformat_minor": 4
}
