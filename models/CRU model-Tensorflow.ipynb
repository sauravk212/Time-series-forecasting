{
 "cells": [
  {
   "cell_type": "code",
   "execution_count": 1,
   "id": "c7bc194a-4b44-4400-bfcc-d321b90a9438",
   "metadata": {
    "id": "c7bc194a-4b44-4400-bfcc-d321b90a9438"
   },
   "outputs": [],
   "source": [
    "import pandas as pd\n",
    "import numpy as np\n",
    "import matplotlib.pyplot as plt\n",
    "from sklearn.preprocessing import MinMaxScaler\n",
    "import math\n",
    "from keras.layers import LSTM, RepeatVector, TimeDistributed"
   ]
  },
  {
   "cell_type": "code",
   "execution_count": 2,
   "id": "a287628f-ae67-4142-bdd0-a76981136344",
   "metadata": {
    "id": "a287628f-ae67-4142-bdd0-a76981136344"
   },
   "outputs": [],
   "source": [
    "dataframe = pd.read_csv('../datasets/Plasma current.csv',usecols=[1]).clip(lower=0).astype('float32')\n",
    "dataframe = dataframe[:200]"
   ]
  },
  {
   "cell_type": "code",
   "execution_count": 3,
   "id": "779ca713-18c5-4078-80f5-cef8736212c0",
   "metadata": {
    "colab": {
     "base_uri": "https://localhost:8080/",
     "height": 447
    },
    "id": "779ca713-18c5-4078-80f5-cef8736212c0",
    "outputId": "041e4b84-bdec-4a27-86fa-ab4d4e0d041b"
   },
   "outputs": [
    {
     "data": {
      "text/plain": [
       "[<matplotlib.lines.Line2D at 0x1e40558f910>]"
      ]
     },
     "execution_count": 3,
     "metadata": {},
     "output_type": "execute_result"
    },
    {
     "data": {
      "image/png": "[encoded data removed]",
      "text/plain": [
       "<Figure size 640x480 with 1 Axes>"
      ]
     },
     "metadata": {},
     "output_type": "display_data"
    }
   ],
   "source": [
    "plt.plot(dataframe[:8000])"
   ]
  },
  {
   "cell_type": "code",
   "execution_count": 4,
   "id": "b3cefdf5-a671-4499-95f6-5be3be547364",
   "metadata": {
    "id": "b3cefdf5-a671-4499-95f6-5be3be547364"
   },
   "outputs": [],
   "source": [
    "scaler = MinMaxScaler(feature_range=(0, 1)) #Also try QuantileTransformer\n",
    "dataset = scaler.fit_transform(dataframe)"
   ]
  },
  {
   "cell_type": "code",
   "execution_count": 5,
   "id": "12d768ec-531b-4016-a600-1fc89fecf01c",
   "metadata": {
    "colab": {
     "base_uri": "https://localhost:8080/"
    },
    "id": "12d768ec-531b-4016-a600-1fc89fecf01c",
    "outputId": "c356ad43-f464-4a9e-838d-cbc1e5fa5783"
   },
   "outputs": [
    {
     "data": {
      "text/plain": [
       "(200, 1)"
      ]
     },
     "execution_count": 5,
     "metadata": {},
     "output_type": "execute_result"
    }
   ],
   "source": [
    "dataset.shape"
   ]
  },
  {
   "cell_type": "code",
   "execution_count": 6,
   "id": "04eab629-7bc7-4ed3-a53f-a360a498b97f",
   "metadata": {
    "colab": {
     "base_uri": "https://localhost:8080/"
    },
    "id": "04eab629-7bc7-4ed3-a53f-a360a498b97f",
    "outputId": "ac8443a5-834e-4bfb-86c4-bde3a32b882f"
   },
   "outputs": [
    {
     "data": {
      "text/plain": [
       "(40, 1)"
      ]
     },
     "execution_count": 6,
     "metadata": {},
     "output_type": "execute_result"
    }
   ],
   "source": [
    "train_size = int(len(dataset) * 0.80)\n",
    "test_size = len(dataset) - train_size\n",
    "train, test = dataset[0:train_size,:], dataset[train_size:len(dataset),:]\n",
    "test.shape"
   ]
  },
  {
   "cell_type": "code",
   "execution_count": 7,
   "id": "e91447f0-9d8d-4d09-bc71-8c05476371d0",
   "metadata": {
    "colab": {
     "base_uri": "https://localhost:8080/"
    },
    "id": "e91447f0-9d8d-4d09-bc71-8c05476371d0",
    "outputId": "0db6e9eb-ef5a-4535-dfbc-6ec04f1c082a"
   },
   "outputs": [
    {
     "data": {
      "text/plain": [
       "(160, 1)"
      ]
     },
     "execution_count": 7,
     "metadata": {},
     "output_type": "execute_result"
    }
   ],
   "source": [
    "train.shape"
   ]
  },
  {
   "cell_type": "code",
   "execution_count": 8,
   "id": "05aefbf6-0fad-4a09-8f04-d4b1b5104baf",
   "metadata": {
    "id": "05aefbf6-0fad-4a09-8f04-d4b1b5104baf"
   },
   "outputs": [],
   "source": [
    "def to_sequences(dataset, time_window,output):\n",
    "    x = []\n",
    "    y = []\n",
    "\n",
    "    for i in range(len(dataset)-time_window-1-output):\n",
    "        #print(i)\n",
    "        window = dataset[i:(i+time_window), 0]\n",
    "        x.append(window)\n",
    "        y.append(dataset[i+time_window:i+time_window+output, 0])\n",
    "\n",
    "    return np.array(x),np.array(y)"
   ]
  },
  {
   "cell_type": "code",
   "execution_count": 9,
   "id": "p9RD6IFKad25",
   "metadata": {
    "id": "p9RD6IFKad25"
   },
   "outputs": [],
   "source": [
    "def to_sequences2(dataset, time_window):\n",
    "    x = []\n",
    "    y = []\n",
    "\n",
    "    for i in range(len(dataset)-time_window-1-output):\n",
    "        #print(i)\n",
    "        window = dataset[i:(i+time_window), 0]\n",
    "        x.append(window)\n",
    "        y.append(dataset[i+time_window, 0])\n",
    "\n",
    "    return np.array(x),np.array(y)"
   ]
  },
  {
   "cell_type": "code",
   "execution_count": 10,
   "id": "c2e0fd99-8ee4-4bed-a7a8-6541e0f425c1",
   "metadata": {
    "id": "c2e0fd99-8ee4-4bed-a7a8-6541e0f425c1"
   },
   "outputs": [],
   "source": [
    "time_window = 10\n",
    "output=1  # Number of time steps to look back\n",
    "#Larger sequences (look further back) may improve forecasting.\n",
    "\n",
    "trainX, trainY = to_sequences(train, time_window, output)\n",
    "testX, testY = to_sequences(test, time_window,output)"
   ]
  },
  {
   "cell_type": "code",
   "execution_count": 11,
   "id": "KyDTDRIFBK84",
   "metadata": {
    "colab": {
     "base_uri": "https://localhost:8080/"
    },
    "id": "KyDTDRIFBK84",
    "outputId": "b4cc27b6-a365-47c6-a4b3-54080422a800"
   },
   "outputs": [
    {
     "data": {
      "text/plain": [
       "(148, 10)"
      ]
     },
     "execution_count": 11,
     "metadata": {},
     "output_type": "execute_result"
    }
   ],
   "source": [
    "trainX.shape"
   ]
  },
  {
   "cell_type": "code",
   "execution_count": 12,
   "id": "3542b28e-4d6c-4160-9323-7c19077d5019",
   "metadata": {
    "colab": {
     "base_uri": "https://localhost:8080/"
    },
    "id": "3542b28e-4d6c-4160-9323-7c19077d5019",
    "outputId": "bfc70503-22c0-4489-e8fb-7a0b4313939a"
   },
   "outputs": [
    {
     "name": "stdout",
     "output_type": "stream",
     "text": [
      "(148, 10, 1)\n",
      "(28, 10, 1)\n",
      "(148, 1)\n",
      "(28, 1)\n"
     ]
    }
   ],
   "source": [
    "trainX = trainX.reshape((trainX.shape[0], trainX.shape[1], 1))\n",
    "print(trainX.shape)\n",
    "testX= testX.reshape((testX.shape[0], testX.shape[1], 1))\n",
    "print(testX.shape)\n",
    "trainY = trainY.reshape((trainY.shape[0], 1))\n",
    "print(trainY.shape)\n",
    "testY= testY.reshape((testY.shape[0], 1))\n",
    "print(testY.shape)"
   ]
  },
  {
   "cell_type": "code",
   "execution_count": 13,
   "id": "8d131e53-ff38-48f0-8403-4ac26148f28c",
   "metadata": {
    "colab": {
     "base_uri": "https://localhost:8080/"
    },
    "id": "8d131e53-ff38-48f0-8403-4ac26148f28c",
    "outputId": "50abdfdd-3211-4025-cf6c-3aa6aacb6eb5"
   },
   "outputs": [
    {
     "data": {
      "text/plain": [
       "(148, 1)"
      ]
     },
     "execution_count": 13,
     "metadata": {},
     "output_type": "execute_result"
    }
   ],
   "source": [
    "trainY.shape"
   ]
  },
  {
   "cell_type": "code",
   "execution_count": 14,
   "id": "abae9f13-65d3-40f3-89a0-fc94980f768e",
   "metadata": {
    "id": "abae9f13-65d3-40f3-89a0-fc94980f768e"
   },
   "outputs": [],
   "source": [
    "from statsmodels.tsa.seasonal import STL\n",
    "\n",
    "import tensorflow as tf\n",
    "import keras\n",
    "from keras.layers import Dense\n",
    "import pandas as pd\n",
    "import numpy as np\n",
    "\n",
    "\n",
    "class _CRUCell(keras.layers.Layer):\n",
    "\n",
    "    def __init__(self, in_dim, hid_dim, bias=True):\n",
    "        super(_CRUCell, self).__init__()\n",
    "\n",
    "        self.in_dim = in_dim\n",
    "        self.hid_dim = hid_dim\n",
    "        self.bias = bias\n",
    "\n",
    "\n",
    "        self.wx_t = Dense(units=self.hid_dim*3)\n",
    "        self.wx_s = Dense(units= self.hid_dim*3)\n",
    "        self.wx_r = Dense(units=self.hid_dim)\n",
    "\n",
    "\n",
    "        self.wh_t = Dense(self.hid_dim*3, bias_initializer='zeros')\n",
    "        self.wh_s = Dense(self.hid_dim*3, bias_initializer='zeros')\n",
    "        self.wh_r = Dense( self.hid_dim, bias_initializer='zeros')\n",
    "\n",
    "        self.reset_parameters()\n",
    "\n",
    "    def call(self, x, hid_state = None):\n",
    "\n",
    "        lamda = 0.5\n",
    "        # print(x.shape)\n",
    "        x_t, x_s, x_r = self.ts_decompose(x)\n",
    "\n",
    "        if hid_state is None:\n",
    "            hid_state = tf.zeros(3, x.shape[1], self.hid_dim)\n",
    "\n",
    "        x_t = self.wx_t(x_t)\n",
    "        x_s = self.wx_s(x_s)\n",
    "        x_r = self.wx_r(x_r)\n",
    "        # print(x_t.shape)\n",
    "\n",
    "        h_t = self.wh_t(hid_state[0,:,:])\n",
    "        h_s = self.wh_s(hid_state[1,:,:])\n",
    "\n",
    "        x_autocor_t, x_cor_t, x_new_t = tf.split(x_t, num_or_size_splits=3, axis=1)\n",
    "        x_autocor_s, x_cor_s, x_new_s = tf.split(x_s, num_or_size_splits=3, axis=1)\n",
    "        h_autocor_t, h_cor_t, h_new_t = tf.split(h_t, num_or_size_splits=3, axis=1)\n",
    "        h_autocor_s, h_cor_s, h_new_s = tf.split(h_s, num_or_size_splits=3, axis=1)\n",
    "\n",
    "        autocor_t = tf.sigmoid(x_autocor_t + h_autocor_t)\n",
    "        autocor_s = tf.sigmoid(x_autocor_s + h_autocor_s)\n",
    "\n",
    "        cor_t = tf.sigmoid(x_cor_t + h_cor_s)\n",
    "        cor_s = tf.sigmoid(x_cor_s + h_cor_t)\n",
    "\n",
    "        new_t = lamda*tf.tanh(x_new_t + (autocor_t * h_new_t)) + (1-lamda)*tf.tanh(x_new_t + (cor_t * h_new_s))\n",
    "        new_s = lamda*tf.tanh(x_new_s + (autocor_s * h_new_s)) + (1-lamda)*tf.tanh(x_new_s + (cor_s * h_new_t))\n",
    "\n",
    "        # print(x_r.shape)\n",
    "        new_state = tf.concat([tf.expand_dims(new_t, axis=0),\n",
    "                       tf.expand_dims(new_s, axis=0),\n",
    "                       tf.expand_dims(tf.tanh(x_r), axis=0)], axis=0)\n",
    "\n",
    "\n",
    "        hid_state = tf.tensor_scatter_nd_update(hid_state, [[0], [1], [2]], new_state)\n",
    "\n",
    "        return hid_state\n",
    "\n",
    "    def reset_parameters(self):\n",
    "        std = 1.0 / np.sqrt(self.hid_dim)\n",
    "        for w in self.trainable_variables:\n",
    "            w.assign(tf.random.uniform(shape=w.shape, minval=-std, maxval=std))\n",
    "\n",
    "    def ts_decompose(self, x):\n",
    "        \n",
    "        x = pd.DataFrame(x.numpy())\n",
    "        dates = pd.date_range('01-01-01', periods = len(x), freq='D')\n",
    "        x.index = dates\n",
    "        trend = []\n",
    "        seasonal = []\n",
    "        resid = []\n",
    "        for i in range(len(x.columns)):\n",
    "            stl = STL(x[i])\n",
    "            res = stl.fit()\n",
    "            trend.append(res.trend.values)\n",
    "            seasonal.append(res.seasonal.values)\n",
    "            resid.append(res.resid.values)\n",
    "\n",
    "        trend = np.array(trend)\n",
    "        seasonal = np.array(seasonal)\n",
    "        resid = np.array(resid)\n",
    "\n",
    "        trend = tf.transpose(tf.convert_to_tensor(trend), perm=[1, 0])\n",
    "        seasonal = tf.transpose(tf.convert_to_tensor(seasonal), perm=[1, 0])\n",
    "        resid = tf.transpose(tf.convert_to_tensor(resid), perm=[1, 0])\n",
    "\n",
    "        return trend, seasonal, resid"
   ]
  },
  {
   "cell_type": "code",
   "execution_count": 15,
   "id": "1fc105b5-5696-4109-87d6-2bb525d46540",
   "metadata": {
    "id": "1fc105b5-5696-4109-87d6-2bb525d46540"
   },
   "outputs": [],
   "source": [
    "# import model.CRUCell as CRUCell\n",
    "import keras\n",
    "import tensorflow as tf\n",
    "\n",
    "class _CRU(keras.layers.Layer):\n",
    "\n",
    "    def __init__(self, in_dim, hid_dim, out_dim, num_layers, bias = True):\n",
    "        super(_CRU, self).__init__()\n",
    "\n",
    "        self.in_dim = in_dim\n",
    "        self.hid_dim = hid_dim\n",
    "        self.num_layers = num_layers\n",
    "\n",
    "        self.bias = bias\n",
    "        self.out_dim = out_dim\n",
    "\n",
    "\n",
    "        self.fc= keras.Sequential([\n",
    "            Dense(self.out_dim)\n",
    "        ])\n",
    "\n",
    "\n",
    "\n",
    "    def build(self,input_shape):\n",
    "\n",
    "        self.cell_list = []\n",
    "        self.cell_list.append(_CRUCell(in_dim=self.in_dim, hid_dim=self.hid_dim, bias=self.bias))\n",
    "\n",
    "        for l in range(1, self.num_layers):\n",
    "            self.cell_list.append(_CRUCell(in_dim=self.in_dim, hid_dim=self.hid_dim, bias=self.bias))\n",
    "\n",
    "    def call(self, input, hid_state=None):\n",
    "\n",
    "        if hid_state is None:\n",
    "            hid_state = tf.zeros((self.num_layers, 3, input.shape[0] ,self.hid_dim), dtype=tf.float32)\n",
    "\n",
    "\n",
    "        outs = []\n",
    "\n",
    "        hidden = list()\n",
    "        for layer in range(self.num_layers):\n",
    "            hidden.append(hid_state[layer,:, :, :])\n",
    "\n",
    "        for t in range(input.shape[1]):\n",
    "\n",
    "            for layer in range(self.num_layers):\n",
    "\n",
    "                if layer == 0:\n",
    "                    hid_layer = self.cell_list[layer](input[:, t, :], hidden[layer])\n",
    "                else:\n",
    "                    hid_layer = self.cell_list[layer](hidden[layer - 1],hidden[layer])\n",
    "\n",
    "                hidden[layer] = hid_layer\n",
    "\n",
    "            outs.append(hid_layer)\n",
    "\n",
    "        feature = tf.reduce_mean(outs[-1],axis=1)\n",
    "        out = tf.reduce_sum(outs[-1],axis=0)\n",
    "        # out = out.numpy().reshape(out.shape[0],out.shape[1],1)\n",
    "        # print(type(out))\n",
    "        out = self.fc(out)\n",
    "\n",
    "        return out, feature"
   ]
  },
  {
   "cell_type": "code",
   "execution_count": 16,
   "id": "a6c650c6-0b96-4bca-9325-93ef760e987c",
   "metadata": {
    "id": "a6c650c6-0b96-4bca-9325-93ef760e987c"
   },
   "outputs": [],
   "source": [
    "# import Preprocessing\n",
    "# import model.CRU as cru\n",
    "import tensorflow as tf\n",
    "from sklearn.metrics import mean_squared_error as mse\n",
    "import numpy as np\n",
    "\n",
    "class ModelTrain():\n",
    "\n",
    "    def __init__(self, time_window, forecasting_term):\n",
    "\n",
    "        self.in_dim = time_window\n",
    "\n",
    "    def _fit(self, hid_dim, out_dim, num_layers, epoch):\n",
    "\n",
    "        m  = _CRU(self.in_dim, hid_dim, out_dim, num_layers)\n",
    "\n",
    "        crit = tf.keras.losses.MeanSquaredError()\n",
    "\n",
    "        optimizer = tf.keras.optimizers.Adam(0.001)\n",
    "\n",
    "        for e in range(epoch):\n",
    "            with tf.GradientTape() as tape:\n",
    "                trainPredict, _ = m(trainX)\n",
    "                loss = crit(trainPredict, trainY)\n",
    "            gradients = tape.gradient(loss, m.trainable_variables)\n",
    "            optimizer.apply_gradients(zip(gradients, m.trainable_variables))\n",
    "\n",
    "            if (e+1) % 100 == 0:\n",
    "\n",
    "                testPredict,_ = m(testX)\n",
    "                traindata = trainY2.reshape(trainY2.shape[0],trainY.shape[1])\n",
    "                testdata = testY.reshape(testY.shape[0],testY.shape[1])\n",
    "\n",
    "                testPredict = scaler.inverse_transform(testPredict.numpy().reshape(testPredict.shape[0],testPredict.shape[1]))\n",
    "                trainPredict = scaler.inverse_transform(trainPredict.numpy().reshape(trainPredict.shape[0],trainPredict.shape[1]))\n",
    "                testdata = scaler.inverse_transform(testdata)\n",
    "                traindata = scaler.inverse_transform(traindata)\n",
    "\n",
    "                test_rmse =  math.sqrt(mse(testPredict, testdata))\n",
    "                train_rmse = math.sqrt(mse(trainPredict, traindata))\n",
    "\n",
    "                print('[Epoch: {}/{}] [Train RMSE: {}] [Test RMSE: {}]'.format(\n",
    "                    e+1, epoch, str(train_rmse)[:6], str(test_rmse)[:6]))\n",
    "\n",
    "        return m,traindata,trainPredict,testdata,testPredict"
   ]
  },
  {
   "cell_type": "code",
   "execution_count": null,
   "id": "2d8869e3-bbdf-46d3-9223-5ea586fcc4d6",
   "metadata": {
    "colab": {
     "base_uri": "https://localhost:8080/"
    },
    "id": "2d8869e3-bbdf-46d3-9223-5ea586fcc4d6",
    "outputId": "da1bc008-d2de-4a36-b664-17dca03749b2",
    "scrolled": true
   },
   "outputs": [
    {
     "name": "stderr",
     "output_type": "stream",
     "text": [
      "C:\\Users\\techno\\anaconda3\\Lib\\site-packages\\keras\\src\\layers\\layer.py:360: UserWarning: `build()` was called on layer '_cru_cell', however the layer does not have a `build()` method implemented and it looks like it has unbuilt state. This will cause the layer to be marked as built, despite not being actually built, which may cause failures down the line. Make sure to implement a proper `build()` method.\n",
      "  warnings.warn(\n"
     ]
    }
   ],
   "source": [
    "\n",
    "import numpy as np\n",
    "import matplotlib.pyplot as plt\n",
    "if __name__ == '__main__':\n",
    "\n",
    "    # Data Preprocessing\n",
    "    time_window = 10\n",
    "    forecasting_term = 1\n",
    "\n",
    "    hid_dim = 10\n",
    "\n",
    "    out_dim = 1\n",
    "    num_layers = 1\n",
    "    epoch = 200\n",
    "\n",
    "    model = ModelTrain(time_window ,forecasting_term)\n",
    "    m,traindata,trainPredict,testdata,testPredict  = model._fit(hid_dim, out_dim, num_layers, epoch)"
   ]
  },
  {
   "cell_type": "code",
   "execution_count": null,
   "id": "277b8c3e-55b7-42a8-8878-95614754eb6c",
   "metadata": {
    "colab": {
     "base_uri": "https://localhost:8080/"
    },
    "id": "277b8c3e-55b7-42a8-8878-95614754eb6c",
    "outputId": "2efed489-37ed-490d-a042-9df0179ebc98"
   },
   "outputs": [],
   "source": [
    "trainX.shape"
   ]
  },
  {
   "cell_type": "code",
   "execution_count": null,
   "id": "86fdf9c3-3c60-432a-a1c1-0ce805df07a5",
   "metadata": {
    "colab": {
     "base_uri": "https://localhost:8080/"
    },
    "id": "86fdf9c3-3c60-432a-a1c1-0ce805df07a5",
    "outputId": "7a034d03-0936-47c2-f416-0e2619f1f762"
   },
   "outputs": [],
   "source": [
    "traindata[:3]"
   ]
  },
  {
   "cell_type": "code",
   "execution_count": null,
   "id": "QN2Pu54LQvFb",
   "metadata": {
    "colab": {
     "base_uri": "https://localhost:8080/"
    },
    "id": "QN2Pu54LQvFb",
    "outputId": "8866be92-c476-4602-c39f-fe180a378d5d"
   },
   "outputs": [],
   "source": [
    "trainPredict[:3]"
   ]
  },
  {
   "cell_type": "code",
   "execution_count": null,
   "id": "3b1acf48-4d33-4ebc-b055-5fbf155ddcb8",
   "metadata": {
    "id": "3b1acf48-4d33-4ebc-b055-5fbf155ddcb8"
   },
   "outputs": [],
   "source": [
    "dataset = scaler.inverse_transform(dataset)"
   ]
  },
  {
   "cell_type": "code",
   "execution_count": null,
   "id": "70b252af-883f-43be-a6af-adec28da40c3",
   "metadata": {
    "colab": {
     "base_uri": "https://localhost:8080/",
     "height": 451
    },
    "id": "70b252af-883f-43be-a6af-adec28da40c3",
    "outputId": "01bfc54c-75d3-498f-e3bd-30c42cb2f53d"
   },
   "outputs": [],
   "source": [
    "# plt.plot(dataset)\n",
    "plt.plot(traindata[2000:2500],color='r')\n",
    "plt.plot(trainPredict[2000:2500])"
   ]
  },
  {
   "cell_type": "code",
   "execution_count": null,
   "id": "jgL_137-mX9d",
   "metadata": {
    "colab": {
     "base_uri": "https://localhost:8080/",
     "height": 447
    },
    "id": "jgL_137-mX9d",
    "outputId": "4e65b279-3402-4d47-fdbb-fbc5fb063879"
   },
   "outputs": [],
   "source": [
    "x_data=np.linspace(0,testY.shape[0], num=testY.shape[0])\n",
    "plt.plot(x_data[:1000], testdata[0:1000], label='actual',color='r')\n",
    "plt.plot(x_data[0:1000], testPredict[:1000], label='predicted')"
   ]
  },
  {
   "cell_type": "code",
   "execution_count": null,
   "id": "fa7d28e9-149f-4299-9712-e8540adbff28",
   "metadata": {
    "id": "fa7d28e9-149f-4299-9712-e8540adbff28"
   },
   "outputs": [],
   "source": [
    "from sklearn.metrics import mean_squared_error"
   ]
  },
  {
   "cell_type": "code",
   "execution_count": null,
   "id": "d1fd08c5-cd39-4828-a9c9-1dd0abc7dc62",
   "metadata": {
    "id": "d1fd08c5-cd39-4828-a9c9-1dd0abc7dc62"
   },
   "outputs": [],
   "source": [
    "import math"
   ]
  },
  {
   "cell_type": "code",
   "execution_count": null,
   "id": "14c6a875-50dd-4873-aee4-1845ecc3bb90",
   "metadata": {
    "colab": {
     "base_uri": "https://localhost:8080/"
    },
    "id": "14c6a875-50dd-4873-aee4-1845ecc3bb90",
    "outputId": "1e5cc596-32d3-4e75-b408-1bfc2bd69f30"
   },
   "outputs": [],
   "source": [
    "math.sqrt(mean_squared_error(traindata,trainPredict))"
   ]
  },
  {
   "cell_type": "code",
   "execution_count": null,
   "id": "53b3a8a4-058f-42f8-b8f5-a113384e5c49",
   "metadata": {
    "colab": {
     "base_uri": "https://localhost:8080/"
    },
    "id": "53b3a8a4-058f-42f8-b8f5-a113384e5c49",
    "outputId": "8efde450-286b-4c1b-890e-414bf7c97e69"
   },
   "outputs": [],
   "source": [
    "math.sqrt(mean_squared_error(testdata,testPredict))"
   ]
  }
 ],
 "metadata": {
  "accelerator": "GPU",
  "colab": {
   "gpuType": "T4",
   "provenance": []
  },
  "kernelspec": {
   "display_name": "Python 3 (ipykernel)",
   "language": "python",
   "name": "python3"
  },
  "language_info": {
   "codemirror_mode": {
    "name": "ipython",
    "version": 3
   },
   "file_extension": ".py",
   "mimetype": "text/x-python",
   "name": "python",
   "nbconvert_exporter": "python",
   "pygments_lexer": "ipython3",
   "version": "3.11.7"
  }
 },
 "nbformat": 4,
 "nbformat_minor": 5
}
